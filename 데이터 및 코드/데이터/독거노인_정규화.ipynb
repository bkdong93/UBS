{
 "cells": [
  {
   "cell_type": "code",
   "execution_count": 1,
   "metadata": {},
   "outputs": [],
   "source": [
    "import sklearn\n",
    "sklearn.__version__\n",
    "\n",
    "import pandas as pd\n",
    "import numpy as np\n",
    "import folium\n",
    "\n",
    "from sklearn.preprocessing import MinMaxScaler"
   ]
  },
  {
   "cell_type": "code",
   "execution_count": 2,
   "metadata": {},
   "outputs": [],
   "source": [
    "import pandas as pd\n",
    "import numpy as np\n",
    "#전처리한 데이터 로드\n",
    "df = pd.read_excel(\"독거노인.xlsx\", thousands = ',') #엑셀로 저장한거 1000단위의 , 제거하고 불러오기"
   ]
  },
  {
   "cell_type": "code",
   "execution_count": 3,
   "metadata": {},
   "outputs": [
    {
     "data": {
      "text/plain": [
       "Index(['Unnamed: 0', '행정동코드', '구', '동', '행정동별독거노인합계'], dtype='object')"
      ]
     },
     "execution_count": 3,
     "metadata": {},
     "output_type": "execute_result"
    }
   ],
   "source": [
    "df.columns"
   ]
  },
  {
   "cell_type": "code",
   "execution_count": 4,
   "metadata": {},
   "outputs": [],
   "source": [
    "#불필요한 index 제거\n",
    "del df['Unnamed: 0'] # Unnamed 0 생긴거 index에서 저장할때 생긴거 같은데 불필요하므로 제거"
   ]
  },
  {
   "cell_type": "code",
   "execution_count": 5,
   "metadata": {},
   "outputs": [],
   "source": [
    "#min-max scaler를 통해 행정동별독거노인합계를 정규화\n",
    "scaler= MinMaxScaler()\n",
    "\n",
    "df[[\"행정동별독거노인합계\"]]= scaler.fit_transform(df[[\"행정동별독거노인합계\"]])\n"
   ]
  },
  {
   "cell_type": "code",
   "execution_count": 6,
   "metadata": {},
   "outputs": [],
   "source": [
    "df.to_excel('독거노인_정규화.xlsx', encoding = 'utf-8')"
   ]
  },
  {
   "cell_type": "code",
   "execution_count": 7,
   "metadata": {},
   "outputs": [],
   "source": [
    "low = df.sort_values(by = ['행정동별독거노인합계', '행정동코드'], ascending = True).head(10)\n",
    "#low"
   ]
  },
  {
   "cell_type": "code",
   "execution_count": 8,
   "metadata": {},
   "outputs": [],
   "source": [
    "high = df.sort_values(by = ['행정동별독거노인합계', '행정동코드'], ascending = False).head(10)\n",
    "#high"
   ]
  },
  {
   "cell_type": "code",
   "execution_count": 9,
   "metadata": {},
   "outputs": [
    {
     "data": {
      "text/html": [
       "<div>\n",
       "<style scoped>\n",
       "    .dataframe tbody tr th:only-of-type {\n",
       "        vertical-align: middle;\n",
       "    }\n",
       "\n",
       "    .dataframe tbody tr th {\n",
       "        vertical-align: top;\n",
       "    }\n",
       "\n",
       "    .dataframe thead th {\n",
       "        text-align: right;\n",
       "    }\n",
       "</style>\n",
       "<table border=\"1\" class=\"dataframe\">\n",
       "  <thead>\n",
       "    <tr style=\"text-align: right;\">\n",
       "      <th></th>\n",
       "      <th>행정동코드</th>\n",
       "      <th>구</th>\n",
       "      <th>동</th>\n",
       "    </tr>\n",
       "  </thead>\n",
       "  <tbody>\n",
       "    <tr>\n",
       "      <th>394</th>\n",
       "      <td>11710631</td>\n",
       "      <td>송파구</td>\n",
       "      <td>가락1동</td>\n",
       "    </tr>\n",
       "    <tr>\n",
       "      <th>17</th>\n",
       "      <td>11140520</td>\n",
       "      <td>중구</td>\n",
       "      <td>소공동</td>\n",
       "    </tr>\n",
       "    <tr>\n",
       "      <th>362</th>\n",
       "      <td>11680600</td>\n",
       "      <td>강남구</td>\n",
       "      <td>대치1동</td>\n",
       "    </tr>\n",
       "    <tr>\n",
       "      <th>1</th>\n",
       "      <td>11110540</td>\n",
       "      <td>종로구</td>\n",
       "      <td>삼청동</td>\n",
       "    </tr>\n",
       "    <tr>\n",
       "      <th>19</th>\n",
       "      <td>11140550</td>\n",
       "      <td>중구</td>\n",
       "      <td>명동</td>\n",
       "    </tr>\n",
       "    <tr>\n",
       "      <th>21</th>\n",
       "      <td>11140580</td>\n",
       "      <td>중구</td>\n",
       "      <td>장충동</td>\n",
       "    </tr>\n",
       "    <tr>\n",
       "      <th>231</th>\n",
       "      <td>11470610</td>\n",
       "      <td>양천구</td>\n",
       "      <td>신월6동</td>\n",
       "    </tr>\n",
       "    <tr>\n",
       "      <th>6</th>\n",
       "      <td>11110600</td>\n",
       "      <td>종로구</td>\n",
       "      <td>가회동</td>\n",
       "    </tr>\n",
       "    <tr>\n",
       "      <th>403</th>\n",
       "      <td>11710720</td>\n",
       "      <td>송파구</td>\n",
       "      <td>잠실7동</td>\n",
       "    </tr>\n",
       "    <tr>\n",
       "      <th>36</th>\n",
       "      <td>11170580</td>\n",
       "      <td>용산구</td>\n",
       "      <td>효창동</td>\n",
       "    </tr>\n",
       "  </tbody>\n",
       "</table>\n",
       "</div>"
      ],
      "text/plain": [
       "        행정동코드    구     동\n",
       "394  11710631  송파구  가락1동\n",
       "17   11140520   중구   소공동\n",
       "362  11680600  강남구  대치1동\n",
       "1    11110540  종로구   삼청동\n",
       "19   11140550   중구    명동\n",
       "21   11140580   중구   장충동\n",
       "231  11470610  양천구  신월6동\n",
       "6    11110600  종로구   가회동\n",
       "403  11710720  송파구  잠실7동\n",
       "36   11170580  용산구   효창동"
      ]
     },
     "execution_count": 9,
     "metadata": {},
     "output_type": "execute_result"
    }
   ],
   "source": [
    "low = low[['행정동코드', '구', '동']]\n",
    "low"
   ]
  },
  {
   "cell_type": "code",
   "execution_count": 10,
   "metadata": {},
   "outputs": [
    {
     "data": {
      "text/html": [
       "<div>\n",
       "<style scoped>\n",
       "    .dataframe tbody tr th:only-of-type {\n",
       "        vertical-align: middle;\n",
       "    }\n",
       "\n",
       "    .dataframe tbody tr th {\n",
       "        vertical-align: top;\n",
       "    }\n",
       "\n",
       "    .dataframe thead th {\n",
       "        text-align: right;\n",
       "    }\n",
       "</style>\n",
       "<table border=\"1\" class=\"dataframe\">\n",
       "  <thead>\n",
       "    <tr style=\"text-align: right;\">\n",
       "      <th></th>\n",
       "      <th>행정동코드</th>\n",
       "      <th>구</th>\n",
       "      <th>동</th>\n",
       "    </tr>\n",
       "  </thead>\n",
       "  <tbody>\n",
       "    <tr>\n",
       "      <th>174</th>\n",
       "      <td>11350625</td>\n",
       "      <td>노원구</td>\n",
       "      <td>중계2.3동</td>\n",
       "    </tr>\n",
       "    <tr>\n",
       "      <th>422</th>\n",
       "      <td>11740610</td>\n",
       "      <td>강동구</td>\n",
       "      <td>천호2동</td>\n",
       "    </tr>\n",
       "    <tr>\n",
       "      <th>243</th>\n",
       "      <td>11500535</td>\n",
       "      <td>강서구</td>\n",
       "      <td>등촌3동</td>\n",
       "    </tr>\n",
       "    <tr>\n",
       "      <th>177</th>\n",
       "      <td>11380520</td>\n",
       "      <td>은평구</td>\n",
       "      <td>불광1동</td>\n",
       "    </tr>\n",
       "    <tr>\n",
       "      <th>235</th>\n",
       "      <td>11470640</td>\n",
       "      <td>양천구</td>\n",
       "      <td>신정3동</td>\n",
       "    </tr>\n",
       "    <tr>\n",
       "      <th>0</th>\n",
       "      <td>11110530</td>\n",
       "      <td>종로구</td>\n",
       "      <td>사직동</td>\n",
       "    </tr>\n",
       "    <tr>\n",
       "      <th>191</th>\n",
       "      <td>11380625</td>\n",
       "      <td>은평구</td>\n",
       "      <td>역촌동</td>\n",
       "    </tr>\n",
       "    <tr>\n",
       "      <th>86</th>\n",
       "      <td>11230560</td>\n",
       "      <td>동대문구</td>\n",
       "      <td>전농1동</td>\n",
       "    </tr>\n",
       "    <tr>\n",
       "      <th>85</th>\n",
       "      <td>11230545</td>\n",
       "      <td>동대문구</td>\n",
       "      <td>제기동</td>\n",
       "    </tr>\n",
       "    <tr>\n",
       "      <th>84</th>\n",
       "      <td>11230536</td>\n",
       "      <td>동대문구</td>\n",
       "      <td>용신동</td>\n",
       "    </tr>\n",
       "  </tbody>\n",
       "</table>\n",
       "</div>"
      ],
      "text/plain": [
       "        행정동코드     구       동\n",
       "174  11350625   노원구  중계2.3동\n",
       "422  11740610   강동구    천호2동\n",
       "243  11500535   강서구    등촌3동\n",
       "177  11380520   은평구    불광1동\n",
       "235  11470640   양천구    신정3동\n",
       "0    11110530   종로구     사직동\n",
       "191  11380625   은평구     역촌동\n",
       "86   11230560  동대문구    전농1동\n",
       "85   11230545  동대문구     제기동\n",
       "84   11230536  동대문구     용신동"
      ]
     },
     "execution_count": 10,
     "metadata": {},
     "output_type": "execute_result"
    }
   ],
   "source": [
    "high = high[['행정동코드', '구', '동']]\n",
    "high"
   ]
  }
 ],
 "metadata": {
  "kernelspec": {
   "display_name": "Python 3",
   "language": "python",
   "name": "python3"
  },
  "language_info": {
   "codemirror_mode": {
    "name": "ipython",
    "version": 3
   },
   "file_extension": ".py",
   "mimetype": "text/x-python",
   "name": "python",
   "nbconvert_exporter": "python",
   "pygments_lexer": "ipython3",
   "version": "3.8.3"
  }
 },
 "nbformat": 4,
 "nbformat_minor": 4
}
