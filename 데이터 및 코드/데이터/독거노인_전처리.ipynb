{
 "cells": [
  {
   "cell_type": "code",
   "execution_count": 1,
   "metadata": {},
   "outputs": [],
   "source": [
    "#원본 데이터 txt 파일 불러오기\n",
    "import pandas as pd\n",
    "import numpy as np\n",
    "df = pd.read_csv(\"서울시 자치동별 독거노인 현황.txt\", sep = \"\\t\", header = 1)"
   ]
  },
  {
   "cell_type": "code",
   "execution_count": 2,
   "metadata": {},
   "outputs": [
    {
     "data": {
      "text/plain": [
       "Index(['기간', '자치구', '동', '계', '65세~79세', '80세이상', '계.1', '65세~79세.1',\n",
       "       '80세이상.1', '계.2', '65세~79세.2', '80세이상.2', '계.3', '65세~79세.3', '80세이상.3',\n",
       "       '비고'],\n",
       "      dtype='object')"
      ]
     },
     "execution_count": 2,
     "metadata": {},
     "output_type": "execute_result"
    }
   ],
   "source": [
    "df.columns"
   ]
  },
  {
   "cell_type": "code",
   "execution_count": 3,
   "metadata": {},
   "outputs": [],
   "source": [
    "#컬럼 이름 재지정\n",
    "df.columns = ['기간', '자치구', '동', '총합계', '65~79세', '80세이상', '기초생활수급권자합계', '65세~79세.1',\n",
    "       '80세이상.1', '저소득노인합계','65세~79세.2', '80세이상.2', '일반합계', '65세~79세.3',\n",
    "       '80세이상.3', '비고']"
   ]
  },
  {
   "cell_type": "code",
   "execution_count": 4,
   "metadata": {},
   "outputs": [],
   "source": [
    "#불필요한 column drop\n",
    "df = df.drop(['65~79세', '80세이상', '65세~79세.1',\n",
    "       '80세이상.1', '65세~79세.2', '80세이상.2', '65세~79세.3',\n",
    "       '80세이상.3', '비고' ,'기초생활수급권자합계', '저소득노인합계', '일반합계'], axis = 1)"
   ]
  },
  {
   "cell_type": "code",
   "execution_count": 5,
   "metadata": {},
   "outputs": [],
   "source": [
    "#불필요한 row 제거\n",
    "df = df[df['동'] != '소계']\n",
    "df = df[df['동'] != '합계']"
   ]
  },
  {
   "cell_type": "code",
   "execution_count": 6,
   "metadata": {},
   "outputs": [],
   "source": [
    "#결측치 -에서 0으로 바꾸기(문자면 계산 시 오류)\n",
    "df = df.replace(to_replace ='-', value = '0', regex = True)"
   ]
  },
  {
   "cell_type": "code",
   "execution_count": 7,
   "metadata": {},
   "outputs": [],
   "source": [
    "#geo-json에 맞춰서 동 이름 변환\n",
    "df = df.replace(to_replace ='종로5·6가동', value = '종로5.6가동', regex = True)"
   ]
  },
  {
   "cell_type": "code",
   "execution_count": 8,
   "metadata": {},
   "outputs": [
    {
     "name": "stderr",
     "output_type": "stream",
     "text": [
      "C:\\Users\\bkdon\\Anaconda3\\lib\\site-packages\\pandas\\core\\indexing.py:671: SettingWithCopyWarning: \n",
      "A value is trying to be set on a copy of a slice from a DataFrame\n",
      "\n",
      "See the caveats in the documentation: https://pandas.pydata.org/pandas-docs/stable/user_guide/indexing.html#returning-a-view-versus-a-copy\n",
      "  self._setitem_with_indexer(indexer, value)\n"
     ]
    }
   ],
   "source": [
    "#결측된 둔촌 1동을 둔촌2동 데이터로 보정\n",
    "df['총합계'].loc[(df['동'] == '둔촌1동')] = 741"
   ]
  },
  {
   "cell_type": "code",
   "execution_count": 9,
   "metadata": {},
   "outputs": [],
   "source": [
    "#규칙에 맞게 column 이름 재지정\n",
    "df.columns = ['기간', '구', '동', '행정동별독거노인합계']"
   ]
  },
  {
   "cell_type": "code",
   "execution_count": 10,
   "metadata": {},
   "outputs": [],
   "source": [
    "#행정동코드 merge를 위한 xlsx 파일 로드\n",
    "data = pd.read_excel(\"geojson_행정동코드.xlsx\")"
   ]
  },
  {
   "cell_type": "code",
   "execution_count": 11,
   "metadata": {},
   "outputs": [],
   "source": [
    "#행정동코드 merge\n",
    "df= pd.merge(df, data, on=[\"구\", \"동\"] ,  how='left')"
   ]
  },
  {
   "cell_type": "code",
   "execution_count": 12,
   "metadata": {},
   "outputs": [],
   "source": [
    "#column 순서 재배치\n",
    "df = df[['행정동코드', '구', '동', '행정동별독거노인합계']]"
   ]
  },
  {
   "cell_type": "code",
   "execution_count": 13,
   "metadata": {},
   "outputs": [],
   "source": [
    "#전처리한 데이터를 xlsx 로 저장\n",
    "df.to_excel('독거노인.xlsx', encoding = 'utf-8')"
   ]
  }
 ],
 "metadata": {
  "kernelspec": {
   "display_name": "Python 3",
   "language": "python",
   "name": "python3"
  },
  "language_info": {
   "codemirror_mode": {
    "name": "ipython",
    "version": 3
   },
   "file_extension": ".py",
   "mimetype": "text/x-python",
   "name": "python",
   "nbconvert_exporter": "python",
   "pygments_lexer": "ipython3",
   "version": "3.8.3"
  }
 },
 "nbformat": 4,
 "nbformat_minor": 4
}
