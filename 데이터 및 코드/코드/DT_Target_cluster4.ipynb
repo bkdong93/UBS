{
 "cells": [
  {
   "cell_type": "code",
   "execution_count": 1,
   "metadata": {},
   "outputs": [],
   "source": [
    "import pandas as pd\n",
    "import numpy as np\n",
    "import sklearn\n",
    "\n",
    "from sklearn.preprocessing import MinMaxScaler"
   ]
  },
  {
   "cell_type": "markdown",
   "metadata": {},
   "source": [
    "## 독거노인"
   ]
  },
  {
   "cell_type": "code",
   "execution_count": 2,
   "metadata": {
    "scrolled": true
   },
   "outputs": [],
   "source": [
    "df_독거노인= pd.read_excel('독거노인_정규화.xlsx', encoding='utf-8', thousands = ',') #숫자의 자릿수를 표현하는 ',' 제거\n",
    "\n",
    "del df_독거노인['Unnamed: 0']\n",
    "\n",
    "#df_독거노인"
   ]
  },
  {
   "cell_type": "markdown",
   "metadata": {},
   "source": [
    "## 요양기관"
   ]
  },
  {
   "cell_type": "code",
   "execution_count": 3,
   "metadata": {},
   "outputs": [],
   "source": [
    "df_요양기관= pd.read_excel('요양기관_정규화.xlsx', encoding='utf-8', thousands = ',')\n",
    "\n",
    "del df_요양기관['Unnamed: 0'] # Unnamed:0 제거\n",
    "\n",
    "#df_요양기관"
   ]
  },
  {
   "cell_type": "markdown",
   "metadata": {},
   "source": [
    "## 기초생활보장수급"
   ]
  },
  {
   "cell_type": "code",
   "execution_count": 4,
   "metadata": {},
   "outputs": [],
   "source": [
    "df_기초생활= pd.read_excel('기초생활보장수급자_정규화.xlsx', encoding='utf-8', thousands = ',')\n",
    "\n",
    "del df_기초생활['Unnamed: 0'] # Unnamed:0 제거\n",
    "\n",
    "#df_기초생활"
   ]
  },
  {
   "cell_type": "markdown",
   "metadata": {},
   "source": [
    "## 소득"
   ]
  },
  {
   "cell_type": "code",
   "execution_count": 5,
   "metadata": {},
   "outputs": [],
   "source": [
    "df_소득= pd.read_excel('소득_정규화.xlsx', encoding='utf-8', thousands = ',')\n",
    "\n",
    "del df_소득['Unnamed: 0'] # Unnamed:0 제거\n",
    "\n",
    "#df_소득"
   ]
  },
  {
   "cell_type": "markdown",
   "metadata": {},
   "source": [
    "## 생활인구"
   ]
  },
  {
   "cell_type": "code",
   "execution_count": 6,
   "metadata": {},
   "outputs": [],
   "source": [
    "df_생활인구= pd.read_excel('생활인구_정규화.xlsx', encoding='utf-8', thousands = ',')\n",
    "\n",
    "del df_생활인구['Unnamed: 0']\n",
    "#df_생활인구"
   ]
  },
  {
   "cell_type": "markdown",
   "metadata": {},
   "source": [
    "## 연금"
   ]
  },
  {
   "cell_type": "code",
   "execution_count": 7,
   "metadata": {},
   "outputs": [],
   "source": [
    "df_연금= pd.read_excel('연금_정규화.xlsx', encoding='utf-8', thousands = ',')\n",
    "\n",
    "del df_연금['Unnamed: 0']\n",
    "\n",
    "#df_연금"
   ]
  },
  {
   "cell_type": "markdown",
   "metadata": {},
   "source": [
    "## 은행"
   ]
  },
  {
   "cell_type": "code",
   "execution_count": 8,
   "metadata": {},
   "outputs": [],
   "source": [
    "df_은행= pd.read_excel('은행_정규화.xlsx', encoding='utf-8', thousands = ',')\n",
    "\n",
    "del df_은행['Unnamed: 0']\n",
    "\n",
    "#df_은행"
   ]
  },
  {
   "cell_type": "markdown",
   "metadata": {},
   "source": [
    "## 타겟A"
   ]
  },
  {
   "cell_type": "code",
   "execution_count": 9,
   "metadata": {},
   "outputs": [],
   "source": [
    "df_타겟_a= pd.read_excel('target_a4.xlsx', encoding='utf-8', thousands = ',')\n",
    "del df_타겟_a['Unnamed: 0'] \n",
    "#df_타겟_a"
   ]
  },
  {
   "cell_type": "markdown",
   "metadata": {},
   "source": [
    "## 타겟B"
   ]
  },
  {
   "cell_type": "code",
   "execution_count": 10,
   "metadata": {},
   "outputs": [],
   "source": [
    "df_타겟_b= pd.read_excel('target_b4.xlsx', encoding='utf-8', thousands = ',')\n",
    "del df_타겟_b['Unnamed: 0'] \n",
    "#df_타겟_b"
   ]
  },
  {
   "cell_type": "code",
   "execution_count": 11,
   "metadata": {},
   "outputs": [],
   "source": [
    "#target a merge : 독거노인 + 요양기관 + 기초생활보장수급\n",
    "df_a= pd.merge(df_독거노인, df_요양기관, on=[\"구\", \"동\"] ,  how='left')\n",
    "#df_a"
   ]
  },
  {
   "cell_type": "code",
   "execution_count": 12,
   "metadata": {},
   "outputs": [],
   "source": [
    "#merge column 삭제 및 rename\n",
    "del df_a['행정동코드_y']\n",
    "df_a.columns = ['행정동코드', '구', '동', '행정동별독거노인합계', '행정동별요양기관정원']\n",
    "#df_a"
   ]
  },
  {
   "cell_type": "code",
   "execution_count": 13,
   "metadata": {},
   "outputs": [],
   "source": [
    "#target a merge : 독거노인 + 요양기관 + 기초생활보장수급\n",
    "df_a= pd.merge(df_a, df_기초생활, on=[\"구\", \"동\"] ,  how='left')"
   ]
  },
  {
   "cell_type": "code",
   "execution_count": 14,
   "metadata": {},
   "outputs": [],
   "source": [
    "del df_a['행정동코드_y']\n",
    "df_a.columns = ['행정동코드', '구', '동', '행정동별독거노인합계', '행정동별요양기관정원', '행정동별기초생활보장수급자합계']\n",
    "#df_a"
   ]
  },
  {
   "cell_type": "code",
   "execution_count": 15,
   "metadata": {},
   "outputs": [
    {
     "data": {
      "text/plain": [
       "Index(['행정동코드_x', '구', '동', '행정동별독거노인합계', '행정동별요양기관정원', '행정동별기초생활보장수급자합계',\n",
       "       '행정동코드_y', '행정동별은행합계'],\n",
       "      dtype='object')"
      ]
     },
     "execution_count": 15,
     "metadata": {},
     "output_type": "execute_result"
    }
   ],
   "source": [
    "#은행 수 데이터 merge\n",
    "df_a= pd.merge(df_a, df_은행, on=[\"구\", \"동\"], how='left')\n",
    "df_a.columns"
   ]
  },
  {
   "cell_type": "code",
   "execution_count": 16,
   "metadata": {},
   "outputs": [],
   "source": [
    "del df_a['행정동코드_y']\n",
    "df_a.columns = ['행정동코드', '구', '동', '행정동별독거노인합계', '행정동별요양기관정원', '행정동별기초생활보장수급자합계', '행정동별은행합계']\n",
    "#df_a.columns = ['행정동코드', '구', '동', '행정동별독거노인합계', '행정동별요양기관정원', '행정동별은행합계']\n",
    "#df_a"
   ]
  },
  {
   "cell_type": "code",
   "execution_count": 17,
   "metadata": {},
   "outputs": [
    {
     "data": {
      "text/plain": [
       "Index(['행정동코드_x', '구', '동', '행정동별독거노인합계', '행정동별요양기관정원', '행정동별기초생활보장수급자합계',\n",
       "       '행정동별은행합계', '행정동코드_y', 'target_a4'],\n",
       "      dtype='object')"
      ]
     },
     "execution_count": 17,
     "metadata": {},
     "output_type": "execute_result"
    }
   ],
   "source": [
    "#target 데이터 merge\n",
    "df_a= pd.merge(df_a, df_타겟_a, on=[\"구\", \"동\"], how='left')\n",
    "df_a.columns"
   ]
  },
  {
   "cell_type": "code",
   "execution_count": 18,
   "metadata": {},
   "outputs": [],
   "source": [
    "del df_a['행정동코드_y']\n",
    "df_a.columns = ['행정동코드', '구', '동', '행정동별독거노인합계', '행정동별요양기관정원', '행정동별기초생활보장수급자합계', '행정동별은행합계', 'target_a4']\n",
    "#df_a.columns = ['행정동코드', '구', '동', '행정동별독거노인합계', '행정동별요양기관정원', '행정동별은행합계', 'target_a']\n",
    "#df_a"
   ]
  },
  {
   "cell_type": "code",
   "execution_count": 19,
   "metadata": {},
   "outputs": [],
   "source": [
    "#merge 소득 + 연금\n",
    "df_b= pd.merge(df_소득, df_연금, on=[\"구\", \"동\"] , how='left')"
   ]
  },
  {
   "cell_type": "code",
   "execution_count": 20,
   "metadata": {
    "scrolled": true
   },
   "outputs": [],
   "source": [
    "del df_b['행정동코드_y']\n",
    "df_b.columns = ['행정동코드', '구', '동', '행정동별평균소득', '행정동별연금평균']\n",
    "#df_b"
   ]
  },
  {
   "cell_type": "code",
   "execution_count": 21,
   "metadata": {},
   "outputs": [],
   "source": [
    "#merge 생활인구\n",
    "df_b= pd.merge(df_b, df_생활인구, on=[\"구\", \"동\"], how='left')"
   ]
  },
  {
   "cell_type": "code",
   "execution_count": 22,
   "metadata": {
    "scrolled": true
   },
   "outputs": [],
   "source": [
    "del df_b['행정동코드_y']\n",
    "df_b.columns = ['행정동코드', '구', '동', '행정동별평균소득', '행정동별연금평균', '행정동별생활인구합계']\n",
    "#df_b"
   ]
  },
  {
   "cell_type": "code",
   "execution_count": 23,
   "metadata": {},
   "outputs": [],
   "source": [
    "#merge 은행수\n",
    "df_b= pd.merge(df_b, df_은행, on=[\"구\", \"동\"], how='left')"
   ]
  },
  {
   "cell_type": "code",
   "execution_count": 24,
   "metadata": {},
   "outputs": [],
   "source": [
    "del df_b['행정동코드_y']\n",
    "df_b.columns = ['행정동코드', '구', '동', '행정동별평균소득', '행정동별연금평균', '행정동별생활인구합계', '행정동별은행합계']\n",
    "#df_b"
   ]
  },
  {
   "cell_type": "code",
   "execution_count": 25,
   "metadata": {},
   "outputs": [],
   "source": [
    "#merge target\n",
    "df_b= pd.merge(df_b, df_타겟_b, on=[\"구\", \"동\"], how='left')"
   ]
  },
  {
   "cell_type": "code",
   "execution_count": 26,
   "metadata": {
    "scrolled": true
   },
   "outputs": [],
   "source": [
    "del df_b['행정동코드_y']\n",
    "df_b.columns = ['행정동코드', '구', '동', '행정동별평균소득', '행정동별연금평균', '행정동별생활인구합계', '행정동별은행합계', 'target_b4']\n",
    "#df_b"
   ]
  },
  {
   "cell_type": "code",
   "execution_count": 27,
   "metadata": {
    "scrolled": true
   },
   "outputs": [],
   "source": [
    "#df_a"
   ]
  },
  {
   "cell_type": "code",
   "execution_count": 28,
   "metadata": {
    "scrolled": true
   },
   "outputs": [],
   "source": [
    "#df_b"
   ]
  },
  {
   "cell_type": "code",
   "execution_count": 29,
   "metadata": {},
   "outputs": [],
   "source": [
    "data_a = df_a[['행정동별독거노인합계', '행정동별요양기관정원', '행정동별기초생활보장수급자합계', '행정동별은행합계']]\n",
    "#data_a = df_a[['행정동별독거노인합계', '행정동별요양기관정원', '행정동별은행합계']]\n"
   ]
  },
  {
   "cell_type": "code",
   "execution_count": 30,
   "metadata": {},
   "outputs": [],
   "source": [
    "target_a = df_a['target_a4']"
   ]
  },
  {
   "cell_type": "code",
   "execution_count": 31,
   "metadata": {},
   "outputs": [],
   "source": [
    "data_a_feature_names = ['행정동별독거노인합계', '행정동별요양기관정원', '행정동별기초생활보장수급자합계', '행정동별은행합계']\n",
    "#data_a_feature_names = ['행정동별독거노인합계', '행정동별요양기관정원', '행정동별은행합계']"
   ]
  },
  {
   "cell_type": "code",
   "execution_count": 32,
   "metadata": {},
   "outputs": [],
   "source": [
    "#target_a_target_names = ['0', '1']\n",
    "target_a_target_names = ['후순위지역', '우선지역' ]"
   ]
  },
  {
   "cell_type": "code",
   "execution_count": 33,
   "metadata": {},
   "outputs": [],
   "source": [
    "data_b = df_b[['행정동별평균소득', '행정동별연금평균', '행정동별생활인구합계', '행정동별은행합계' ]]"
   ]
  },
  {
   "cell_type": "code",
   "execution_count": 34,
   "metadata": {},
   "outputs": [],
   "source": [
    "target_b = df_b['target_b4']"
   ]
  },
  {
   "cell_type": "code",
   "execution_count": 35,
   "metadata": {},
   "outputs": [],
   "source": [
    "data_b_feature_names = ['행정동별평균소득', '행정동별연금평균', '행정동별생활인구합계', '행정동별은행합계' ]"
   ]
  },
  {
   "cell_type": "code",
   "execution_count": 36,
   "metadata": {},
   "outputs": [],
   "source": [
    "#target_b_target_names = ['0', '1']\n",
    "target_b_target_names = ['후순위지역', '우선지역']"
   ]
  },
  {
   "cell_type": "code",
   "execution_count": 37,
   "metadata": {},
   "outputs": [],
   "source": [
    "import pandas as pd\n",
    "import numpy as np\n",
    "import matplotlib.pyplot as plt\n",
    "from sklearn import datasets\n",
    "from sklearn.model_selection import train_test_split\n",
    "from sklearn.metrics import confusion_matrix, accuracy_score"
   ]
  },
  {
   "cell_type": "code",
   "execution_count": 38,
   "metadata": {},
   "outputs": [
    {
     "name": "stdout",
     "output_type": "stream",
     "text": [
      "(339, 4) (85, 4) (339,) (85,)\n"
     ]
    }
   ],
   "source": [
    "x_a_train, x_a_test, y_a_train, y_a_test = train_test_split(data_a, target_a,\n",
    "                                                   test_size=0.2,\n",
    "                                                   random_state=333)\n",
    "print(x_a_train.shape, x_a_test.shape, y_a_train.shape, y_a_test.shape)"
   ]
  },
  {
   "cell_type": "code",
   "execution_count": 39,
   "metadata": {},
   "outputs": [
    {
     "name": "stdout",
     "output_type": "stream",
     "text": [
      "(339, 4) (85, 4) (339,) (85,)\n"
     ]
    }
   ],
   "source": [
    "x_b_train, x_b_test, y_b_train, y_b_test = train_test_split(data_b, target_b,\n",
    "                                                   test_size=0.2,\n",
    "                                                   random_state=333)\n",
    "print(x_b_train.shape, x_b_test.shape, y_b_train.shape, y_b_test.shape)"
   ]
  },
  {
   "cell_type": "code",
   "execution_count": 40,
   "metadata": {},
   "outputs": [],
   "source": [
    "from sklearn import tree"
   ]
  },
  {
   "cell_type": "code",
   "execution_count": 41,
   "metadata": {},
   "outputs": [],
   "source": [
    "import graphviz"
   ]
  },
  {
   "cell_type": "code",
   "execution_count": 42,
   "metadata": {},
   "outputs": [],
   "source": [
    "import os\n",
    "os.environ[\"PATH\"] += os.pathsep + \"C:/Program Files (x86)/Graphviz2.38/bin\""
   ]
  },
  {
   "cell_type": "code",
   "execution_count": 43,
   "metadata": {},
   "outputs": [],
   "source": [
    "clf3_a = tree.DecisionTreeClassifier(criterion = \"entropy\", max_depth= 2)"
   ]
  },
  {
   "cell_type": "code",
   "execution_count": 44,
   "metadata": {},
   "outputs": [],
   "source": [
    "clf3_b = tree.DecisionTreeClassifier(criterion = \"entropy\", max_depth= 2)"
   ]
  },
  {
   "cell_type": "code",
   "execution_count": 45,
   "metadata": {},
   "outputs": [
    {
     "name": "stdout",
     "output_type": "stream",
     "text": [
      "[[66  3]\n",
      " [11  5]]\n",
      "0.8352941176470589\n"
     ]
    }
   ],
   "source": [
    "clf3_a_dt = clf3_a.fit(x_a_train, y_a_train)\n",
    "\n",
    "y_a_pred3 = clf3_a.predict(x_a_test)\n",
    "\n",
    "print(confusion_matrix(y_a_test, y_a_pred3))\n",
    "print(accuracy_score(y_a_test, y_a_pred3))"
   ]
  },
  {
   "cell_type": "code",
   "execution_count": 46,
   "metadata": {},
   "outputs": [
    {
     "name": "stdout",
     "output_type": "stream",
     "text": [
      "[[50  7]\n",
      " [21  7]]\n",
      "0.6705882352941176\n"
     ]
    }
   ],
   "source": [
    "clf3_b_dt = clf3_b.fit(x_b_train, y_b_train)\n",
    "\n",
    "y_b_pred3 = clf3_b.predict(x_b_test)\n",
    "\n",
    "print(confusion_matrix(y_b_test, y_b_pred3))\n",
    "print(accuracy_score(y_b_test, y_b_pred3))"
   ]
  },
  {
   "cell_type": "code",
   "execution_count": 47,
   "metadata": {},
   "outputs": [],
   "source": [
    "dot_data3_a = tree.export_graphviz(clf3_a_dt, out_file =None, \n",
    "                               feature_names = data_a_feature_names,\n",
    "                               class_names = target_a_target_names,\n",
    "                               filled = True, rounded =True)\n",
    "\n",
    "graph3_a = graphviz.Source(dot_data3_a)"
   ]
  },
  {
   "cell_type": "code",
   "execution_count": 48,
   "metadata": {},
   "outputs": [],
   "source": [
    "dot_data3_b = tree.export_graphviz(clf3_b_dt, out_file =None, \n",
    "                               feature_names = data_b_feature_names,\n",
    "                               class_names = target_b_target_names,\n",
    "                               filled = True, rounded =True)\n",
    "\n",
    "graph3_b = graphviz.Source(dot_data3_b)"
   ]
  },
  {
   "cell_type": "code",
   "execution_count": 49,
   "metadata": {},
   "outputs": [
    {
     "data": {
      "image/svg+xml": [
       "<?xml version=\"1.0\" encoding=\"UTF-8\" standalone=\"no\"?>\r\n",
       "<!DOCTYPE svg PUBLIC \"-//W3C//DTD SVG 1.1//EN\"\r\n",
       " \"http://www.w3.org/Graphics/SVG/1.1/DTD/svg11.dtd\">\r\n",
       "<!-- Generated by graphviz version 2.38.0 (20140413.2041)\r\n",
       " -->\r\n",
       "<!-- Title: Tree Pages: 1 -->\r\n",
       "<svg width=\"578pt\" height=\"314pt\"\r\n",
       " viewBox=\"0.00 0.00 578.00 314.00\" xmlns=\"http://www.w3.org/2000/svg\" xmlns:xlink=\"http://www.w3.org/1999/xlink\">\r\n",
       "<g id=\"graph0\" class=\"graph\" transform=\"scale(1 1) rotate(0) translate(4 310)\">\r\n",
       "<title>Tree</title>\r\n",
       "<polygon fill=\"white\" stroke=\"none\" points=\"-4,4 -4,-310 574,-310 574,4 -4,4\"/>\r\n",
       "<!-- 0 -->\r\n",
       "<g id=\"node1\" class=\"node\"><title>0</title>\r\n",
       "<path fill=\"#eb9e67\" stroke=\"black\" d=\"M371,-306C371,-306 205,-306 205,-306 199,-306 193,-300 193,-294 193,-294 193,-235 193,-235 193,-229 199,-223 205,-223 205,-223 371,-223 371,-223 377,-223 383,-229 383,-235 383,-235 383,-294 383,-294 383,-300 377,-306 371,-306\"/>\r\n",
       "<text text-anchor=\"middle\" x=\"288\" y=\"-290.8\" font-family=\"Helvetica,sans-Serif\" font-size=\"14.00\">행정동별요양기관정원 &lt;= 0.275</text>\r\n",
       "<text text-anchor=\"middle\" x=\"288\" y=\"-275.8\" font-family=\"Helvetica,sans-Serif\" font-size=\"14.00\">entropy = 0.699</text>\r\n",
       "<text text-anchor=\"middle\" x=\"288\" y=\"-260.8\" font-family=\"Helvetica,sans-Serif\" font-size=\"14.00\">samples = 339</text>\r\n",
       "<text text-anchor=\"middle\" x=\"288\" y=\"-245.8\" font-family=\"Helvetica,sans-Serif\" font-size=\"14.00\">value = [275, 64]</text>\r\n",
       "<text text-anchor=\"middle\" x=\"288\" y=\"-230.8\" font-family=\"Helvetica,sans-Serif\" font-size=\"14.00\">class = 후순위지역</text>\r\n",
       "</g>\r\n",
       "<!-- 1 -->\r\n",
       "<g id=\"node2\" class=\"node\"><title>1</title>\r\n",
       "<path fill=\"#e6853f\" stroke=\"black\" d=\"M267,-187C267,-187 101,-187 101,-187 95,-187 89,-181 89,-175 89,-175 89,-116 89,-116 89,-110 95,-104 101,-104 101,-104 267,-104 267,-104 273,-104 279,-110 279,-116 279,-116 279,-175 279,-175 279,-181 273,-187 267,-187\"/>\r\n",
       "<text text-anchor=\"middle\" x=\"184\" y=\"-171.8\" font-family=\"Helvetica,sans-Serif\" font-size=\"14.00\">행정동별독거노인합계 &lt;= 0.244</text>\r\n",
       "<text text-anchor=\"middle\" x=\"184\" y=\"-156.8\" font-family=\"Helvetica,sans-Serif\" font-size=\"14.00\">entropy = 0.189</text>\r\n",
       "<text text-anchor=\"middle\" x=\"184\" y=\"-141.8\" font-family=\"Helvetica,sans-Serif\" font-size=\"14.00\">samples = 138</text>\r\n",
       "<text text-anchor=\"middle\" x=\"184\" y=\"-126.8\" font-family=\"Helvetica,sans-Serif\" font-size=\"14.00\">value = [134, 4]</text>\r\n",
       "<text text-anchor=\"middle\" x=\"184\" y=\"-111.8\" font-family=\"Helvetica,sans-Serif\" font-size=\"14.00\">class = 후순위지역</text>\r\n",
       "</g>\r\n",
       "<!-- 0&#45;&gt;1 -->\r\n",
       "<g id=\"edge1\" class=\"edge\"><title>0&#45;&gt;1</title>\r\n",
       "<path fill=\"none\" stroke=\"black\" d=\"M251.918,-222.907C243.851,-213.832 235.219,-204.121 226.906,-194.769\"/>\r\n",
       "<polygon fill=\"black\" stroke=\"black\" points=\"229.278,-192.17 220.018,-187.021 224.046,-196.82 229.278,-192.17\"/>\r\n",
       "<text text-anchor=\"middle\" x=\"218.55\" y=\"-208.278\" font-family=\"Helvetica,sans-Serif\" font-size=\"14.00\">True</text>\r\n",
       "</g>\r\n",
       "<!-- 4 -->\r\n",
       "<g id=\"node5\" class=\"node\"><title>4</title>\r\n",
       "<path fill=\"#f0b78d\" stroke=\"black\" d=\"M475,-187C475,-187 309,-187 309,-187 303,-187 297,-181 297,-175 297,-175 297,-116 297,-116 297,-110 303,-104 309,-104 309,-104 475,-104 475,-104 481,-104 487,-110 487,-116 487,-116 487,-175 487,-175 487,-181 481,-187 475,-187\"/>\r\n",
       "<text text-anchor=\"middle\" x=\"392\" y=\"-171.8\" font-family=\"Helvetica,sans-Serif\" font-size=\"14.00\">행정동별요양기관정원 &lt;= 0.767</text>\r\n",
       "<text text-anchor=\"middle\" x=\"392\" y=\"-156.8\" font-family=\"Helvetica,sans-Serif\" font-size=\"14.00\">entropy = 0.879</text>\r\n",
       "<text text-anchor=\"middle\" x=\"392\" y=\"-141.8\" font-family=\"Helvetica,sans-Serif\" font-size=\"14.00\">samples = 201</text>\r\n",
       "<text text-anchor=\"middle\" x=\"392\" y=\"-126.8\" font-family=\"Helvetica,sans-Serif\" font-size=\"14.00\">value = [141, 60]</text>\r\n",
       "<text text-anchor=\"middle\" x=\"392\" y=\"-111.8\" font-family=\"Helvetica,sans-Serif\" font-size=\"14.00\">class = 후순위지역</text>\r\n",
       "</g>\r\n",
       "<!-- 0&#45;&gt;4 -->\r\n",
       "<g id=\"edge4\" class=\"edge\"><title>0&#45;&gt;4</title>\r\n",
       "<path fill=\"none\" stroke=\"black\" d=\"M324.082,-222.907C332.149,-213.832 340.781,-204.121 349.094,-194.769\"/>\r\n",
       "<polygon fill=\"black\" stroke=\"black\" points=\"351.954,-196.82 355.982,-187.021 346.722,-192.17 351.954,-196.82\"/>\r\n",
       "<text text-anchor=\"middle\" x=\"357.45\" y=\"-208.278\" font-family=\"Helvetica,sans-Serif\" font-size=\"14.00\">False</text>\r\n",
       "</g>\r\n",
       "<!-- 2 -->\r\n",
       "<g id=\"node3\" class=\"node\"><title>2</title>\r\n",
       "<path fill=\"#e58139\" stroke=\"black\" d=\"M110,-68C110,-68 12,-68 12,-68 6,-68 7.10543e-015,-62 7.10543e-015,-56 7.10543e-015,-56 7.10543e-015,-12 7.10543e-015,-12 7.10543e-015,-6 6,-0 12,-0 12,-0 110,-0 110,-0 116,-0 122,-6 122,-12 122,-12 122,-56 122,-56 122,-62 116,-68 110,-68\"/>\r\n",
       "<text text-anchor=\"middle\" x=\"61\" y=\"-52.8\" font-family=\"Helvetica,sans-Serif\" font-size=\"14.00\">entropy = 0.0</text>\r\n",
       "<text text-anchor=\"middle\" x=\"61\" y=\"-37.8\" font-family=\"Helvetica,sans-Serif\" font-size=\"14.00\">samples = 66</text>\r\n",
       "<text text-anchor=\"middle\" x=\"61\" y=\"-22.8\" font-family=\"Helvetica,sans-Serif\" font-size=\"14.00\">value = [66, 0]</text>\r\n",
       "<text text-anchor=\"middle\" x=\"61\" y=\"-7.8\" font-family=\"Helvetica,sans-Serif\" font-size=\"14.00\">class = 후순위지역</text>\r\n",
       "</g>\r\n",
       "<!-- 1&#45;&gt;2 -->\r\n",
       "<g id=\"edge2\" class=\"edge\"><title>1&#45;&gt;2</title>\r\n",
       "<path fill=\"none\" stroke=\"black\" d=\"M138.199,-103.726C127.647,-94.3318 116.433,-84.349 105.918,-74.9883\"/>\r\n",
       "<polygon fill=\"black\" stroke=\"black\" points=\"108.201,-72.3347 98.405,-68.2996 103.547,-77.5631 108.201,-72.3347\"/>\r\n",
       "</g>\r\n",
       "<!-- 3 -->\r\n",
       "<g id=\"node4\" class=\"node\"><title>3</title>\r\n",
       "<path fill=\"#e78845\" stroke=\"black\" d=\"M250,-68C250,-68 152,-68 152,-68 146,-68 140,-62 140,-56 140,-56 140,-12 140,-12 140,-6 146,-0 152,-0 152,-0 250,-0 250,-0 256,-0 262,-6 262,-12 262,-12 262,-56 262,-56 262,-62 256,-68 250,-68\"/>\r\n",
       "<text text-anchor=\"middle\" x=\"201\" y=\"-52.8\" font-family=\"Helvetica,sans-Serif\" font-size=\"14.00\">entropy = 0.31</text>\r\n",
       "<text text-anchor=\"middle\" x=\"201\" y=\"-37.8\" font-family=\"Helvetica,sans-Serif\" font-size=\"14.00\">samples = 72</text>\r\n",
       "<text text-anchor=\"middle\" x=\"201\" y=\"-22.8\" font-family=\"Helvetica,sans-Serif\" font-size=\"14.00\">value = [68, 4]</text>\r\n",
       "<text text-anchor=\"middle\" x=\"201\" y=\"-7.8\" font-family=\"Helvetica,sans-Serif\" font-size=\"14.00\">class = 후순위지역</text>\r\n",
       "</g>\r\n",
       "<!-- 1&#45;&gt;3 -->\r\n",
       "<g id=\"edge3\" class=\"edge\"><title>1&#45;&gt;3</title>\r\n",
       "<path fill=\"none\" stroke=\"black\" d=\"M190.33,-103.726C191.619,-95.4263 192.979,-86.6671 194.28,-78.2834\"/>\r\n",
       "<polygon fill=\"black\" stroke=\"black\" points=\"197.755,-78.7182 195.83,-68.2996 190.837,-77.6442 197.755,-78.7182\"/>\r\n",
       "</g>\r\n",
       "<!-- 5 -->\r\n",
       "<g id=\"node6\" class=\"node\"><title>5</title>\r\n",
       "<path fill=\"#edaa7a\" stroke=\"black\" d=\"M424,-68C424,-68 326,-68 326,-68 320,-68 314,-62 314,-56 314,-56 314,-12 314,-12 314,-6 320,-0 326,-0 326,-0 424,-0 424,-0 430,-0 436,-6 436,-12 436,-12 436,-56 436,-56 436,-62 430,-68 424,-68\"/>\r\n",
       "<text text-anchor=\"middle\" x=\"375\" y=\"-52.8\" font-family=\"Helvetica,sans-Serif\" font-size=\"14.00\">entropy = 0.805</text>\r\n",
       "<text text-anchor=\"middle\" x=\"375\" y=\"-37.8\" font-family=\"Helvetica,sans-Serif\" font-size=\"14.00\">samples = 179</text>\r\n",
       "<text text-anchor=\"middle\" x=\"375\" y=\"-22.8\" font-family=\"Helvetica,sans-Serif\" font-size=\"14.00\">value = [135, 44]</text>\r\n",
       "<text text-anchor=\"middle\" x=\"375\" y=\"-7.8\" font-family=\"Helvetica,sans-Serif\" font-size=\"14.00\">class = 후순위지역</text>\r\n",
       "</g>\r\n",
       "<!-- 4&#45;&gt;5 -->\r\n",
       "<g id=\"edge5\" class=\"edge\"><title>4&#45;&gt;5</title>\r\n",
       "<path fill=\"none\" stroke=\"black\" d=\"M385.67,-103.726C384.381,-95.4263 383.021,-86.6671 381.72,-78.2834\"/>\r\n",
       "<polygon fill=\"black\" stroke=\"black\" points=\"385.163,-77.6442 380.17,-68.2996 378.245,-78.7182 385.163,-77.6442\"/>\r\n",
       "</g>\r\n",
       "<!-- 6 -->\r\n",
       "<g id=\"node7\" class=\"node\"><title>6</title>\r\n",
       "<path fill=\"#83c2ef\" stroke=\"black\" d=\"M558,-68C558,-68 466,-68 466,-68 460,-68 454,-62 454,-56 454,-56 454,-12 454,-12 454,-6 460,-0 466,-0 466,-0 558,-0 558,-0 564,-0 570,-6 570,-12 570,-12 570,-56 570,-56 570,-62 564,-68 558,-68\"/>\r\n",
       "<text text-anchor=\"middle\" x=\"512\" y=\"-52.8\" font-family=\"Helvetica,sans-Serif\" font-size=\"14.00\">entropy = 0.845</text>\r\n",
       "<text text-anchor=\"middle\" x=\"512\" y=\"-37.8\" font-family=\"Helvetica,sans-Serif\" font-size=\"14.00\">samples = 22</text>\r\n",
       "<text text-anchor=\"middle\" x=\"512\" y=\"-22.8\" font-family=\"Helvetica,sans-Serif\" font-size=\"14.00\">value = [6, 16]</text>\r\n",
       "<text text-anchor=\"middle\" x=\"512\" y=\"-7.8\" font-family=\"Helvetica,sans-Serif\" font-size=\"14.00\">class = 우선지역</text>\r\n",
       "</g>\r\n",
       "<!-- 4&#45;&gt;6 -->\r\n",
       "<g id=\"edge6\" class=\"edge\"><title>4&#45;&gt;6</title>\r\n",
       "<path fill=\"none\" stroke=\"black\" d=\"M436.684,-103.726C446.879,-94.423 457.707,-84.5428 467.878,-75.2612\"/>\r\n",
       "<polygon fill=\"black\" stroke=\"black\" points=\"470.48,-77.6255 475.507,-68.2996 465.761,-72.4547 470.48,-77.6255\"/>\r\n",
       "</g>\r\n",
       "</g>\r\n",
       "</svg>\r\n"
      ],
      "text/plain": [
       "<graphviz.files.Source at 0x278fc4b978>"
      ]
     },
     "execution_count": 49,
     "metadata": {},
     "output_type": "execute_result"
    }
   ],
   "source": [
    "graph3_a #data_a = df_a[['행정동별독거노인합계', '행정동별요양기관정원', '행정동별기초생활보장수급자합계', '행정동별은행합계']]"
   ]
  },
  {
   "cell_type": "code",
   "execution_count": 50,
   "metadata": {},
   "outputs": [
    {
     "data": {
      "text/plain": [
       "0.839622641509434"
      ]
     },
     "execution_count": 50,
     "metadata": {},
     "output_type": "execute_result"
    }
   ],
   "source": [
    "accuracy_score(target_a, clf3_a.predict(data_a))"
   ]
  },
  {
   "cell_type": "code",
   "execution_count": 51,
   "metadata": {},
   "outputs": [
    {
     "data": {
      "image/svg+xml": [
       "<?xml version=\"1.0\" encoding=\"UTF-8\" standalone=\"no\"?>\r\n",
       "<!DOCTYPE svg PUBLIC \"-//W3C//DTD SVG 1.1//EN\"\r\n",
       " \"http://www.w3.org/Graphics/SVG/1.1/DTD/svg11.dtd\">\r\n",
       "<!-- Generated by graphviz version 2.38.0 (20140413.2041)\r\n",
       " -->\r\n",
       "<!-- Title: Tree Pages: 1 -->\r\n",
       "<svg width=\"358pt\" height=\"314pt\"\r\n",
       " viewBox=\"0.00 0.00 358.00 314.00\" xmlns=\"http://www.w3.org/2000/svg\" xmlns:xlink=\"http://www.w3.org/1999/xlink\">\r\n",
       "<g id=\"graph0\" class=\"graph\" transform=\"scale(1 1) rotate(0) translate(4 310)\">\r\n",
       "<title>Tree</title>\r\n",
       "<polygon fill=\"white\" stroke=\"none\" points=\"-4,4 -4,-310 354,-310 354,4 -4,4\"/>\r\n",
       "<!-- 0 -->\r\n",
       "<g id=\"node1\" class=\"node\"><title>0</title>\r\n",
       "<path fill=\"#f2c19d\" stroke=\"black\" d=\"M278.5,-306C278.5,-306 135.5,-306 135.5,-306 129.5,-306 123.5,-300 123.5,-294 123.5,-294 123.5,-235 123.5,-235 123.5,-229 129.5,-223 135.5,-223 135.5,-223 278.5,-223 278.5,-223 284.5,-223 290.5,-229 290.5,-235 290.5,-235 290.5,-294 290.5,-294 290.5,-300 284.5,-306 278.5,-306\"/>\r\n",
       "<text text-anchor=\"middle\" x=\"207\" y=\"-290.8\" font-family=\"Helvetica,sans-Serif\" font-size=\"14.00\">행정동별은행합계 &lt;= 0.217</text>\r\n",
       "<text text-anchor=\"middle\" x=\"207\" y=\"-275.8\" font-family=\"Helvetica,sans-Serif\" font-size=\"14.00\">entropy = 0.921</text>\r\n",
       "<text text-anchor=\"middle\" x=\"207\" y=\"-260.8\" font-family=\"Helvetica,sans-Serif\" font-size=\"14.00\">samples = 339</text>\r\n",
       "<text text-anchor=\"middle\" x=\"207\" y=\"-245.8\" font-family=\"Helvetica,sans-Serif\" font-size=\"14.00\">value = [225, 114]</text>\r\n",
       "<text text-anchor=\"middle\" x=\"207\" y=\"-230.8\" font-family=\"Helvetica,sans-Serif\" font-size=\"14.00\">class = 후순위지역</text>\r\n",
       "</g>\r\n",
       "<!-- 1 -->\r\n",
       "<g id=\"node2\" class=\"node\"><title>1</title>\r\n",
       "<path fill=\"#f4caac\" stroke=\"black\" d=\"M197.5,-187C197.5,-187 54.5,-187 54.5,-187 48.5,-187 42.5,-181 42.5,-175 42.5,-175 42.5,-116 42.5,-116 42.5,-110 48.5,-104 54.5,-104 54.5,-104 197.5,-104 197.5,-104 203.5,-104 209.5,-110 209.5,-116 209.5,-116 209.5,-175 209.5,-175 209.5,-181 203.5,-187 197.5,-187\"/>\r\n",
       "<text text-anchor=\"middle\" x=\"126\" y=\"-171.8\" font-family=\"Helvetica,sans-Serif\" font-size=\"14.00\">행정동별연금평균 &lt;= 0.082</text>\r\n",
       "<text text-anchor=\"middle\" x=\"126\" y=\"-156.8\" font-family=\"Helvetica,sans-Serif\" font-size=\"14.00\">entropy = 0.948</text>\r\n",
       "<text text-anchor=\"middle\" x=\"126\" y=\"-141.8\" font-family=\"Helvetica,sans-Serif\" font-size=\"14.00\">samples = 311</text>\r\n",
       "<text text-anchor=\"middle\" x=\"126\" y=\"-126.8\" font-family=\"Helvetica,sans-Serif\" font-size=\"14.00\">value = [197, 114]</text>\r\n",
       "<text text-anchor=\"middle\" x=\"126\" y=\"-111.8\" font-family=\"Helvetica,sans-Serif\" font-size=\"14.00\">class = 후순위지역</text>\r\n",
       "</g>\r\n",
       "<!-- 0&#45;&gt;1 -->\r\n",
       "<g id=\"edge1\" class=\"edge\"><title>0&#45;&gt;1</title>\r\n",
       "<path fill=\"none\" stroke=\"black\" d=\"M178.897,-222.907C172.74,-214.014 166.16,-204.509 159.806,-195.331\"/>\r\n",
       "<polygon fill=\"black\" stroke=\"black\" points=\"162.623,-193.251 154.053,-187.021 156.867,-197.235 162.623,-193.251\"/>\r\n",
       "<text text-anchor=\"middle\" x=\"149.581\" y=\"-207.918\" font-family=\"Helvetica,sans-Serif\" font-size=\"14.00\">True</text>\r\n",
       "</g>\r\n",
       "<!-- 4 -->\r\n",
       "<g id=\"node5\" class=\"node\"><title>4</title>\r\n",
       "<path fill=\"#e58139\" stroke=\"black\" d=\"M338,-179.5C338,-179.5 240,-179.5 240,-179.5 234,-179.5 228,-173.5 228,-167.5 228,-167.5 228,-123.5 228,-123.5 228,-117.5 234,-111.5 240,-111.5 240,-111.5 338,-111.5 338,-111.5 344,-111.5 350,-117.5 350,-123.5 350,-123.5 350,-167.5 350,-167.5 350,-173.5 344,-179.5 338,-179.5\"/>\r\n",
       "<text text-anchor=\"middle\" x=\"289\" y=\"-164.3\" font-family=\"Helvetica,sans-Serif\" font-size=\"14.00\">entropy = 0.0</text>\r\n",
       "<text text-anchor=\"middle\" x=\"289\" y=\"-149.3\" font-family=\"Helvetica,sans-Serif\" font-size=\"14.00\">samples = 28</text>\r\n",
       "<text text-anchor=\"middle\" x=\"289\" y=\"-134.3\" font-family=\"Helvetica,sans-Serif\" font-size=\"14.00\">value = [28, 0]</text>\r\n",
       "<text text-anchor=\"middle\" x=\"289\" y=\"-119.3\" font-family=\"Helvetica,sans-Serif\" font-size=\"14.00\">class = 후순위지역</text>\r\n",
       "</g>\r\n",
       "<!-- 0&#45;&gt;4 -->\r\n",
       "<g id=\"edge4\" class=\"edge\"><title>0&#45;&gt;4</title>\r\n",
       "<path fill=\"none\" stroke=\"black\" d=\"M235.449,-222.907C243.338,-211.652 251.912,-199.418 259.84,-188.106\"/>\r\n",
       "<polygon fill=\"black\" stroke=\"black\" points=\"262.882,-189.865 265.755,-179.667 257.149,-185.847 262.882,-189.865\"/>\r\n",
       "<text text-anchor=\"middle\" x=\"270.085\" y=\"-200.589\" font-family=\"Helvetica,sans-Serif\" font-size=\"14.00\">False</text>\r\n",
       "</g>\r\n",
       "<!-- 2 -->\r\n",
       "<g id=\"node3\" class=\"node\"><title>2</title>\r\n",
       "<path fill=\"#cae5f8\" stroke=\"black\" d=\"M104,-68C104,-68 12,-68 12,-68 6,-68 0,-62 0,-56 0,-56 0,-12 0,-12 0,-6 6,-0 12,-0 12,-0 104,-0 104,-0 110,-0 116,-6 116,-12 116,-12 116,-56 116,-56 116,-62 110,-68 104,-68\"/>\r\n",
       "<text text-anchor=\"middle\" x=\"58\" y=\"-52.8\" font-family=\"Helvetica,sans-Serif\" font-size=\"14.00\">entropy = 0.983</text>\r\n",
       "<text text-anchor=\"middle\" x=\"58\" y=\"-37.8\" font-family=\"Helvetica,sans-Serif\" font-size=\"14.00\">samples = 52</text>\r\n",
       "<text text-anchor=\"middle\" x=\"58\" y=\"-22.8\" font-family=\"Helvetica,sans-Serif\" font-size=\"14.00\">value = [22, 30]</text>\r\n",
       "<text text-anchor=\"middle\" x=\"58\" y=\"-7.8\" font-family=\"Helvetica,sans-Serif\" font-size=\"14.00\">class = 우선지역</text>\r\n",
       "</g>\r\n",
       "<!-- 1&#45;&gt;2 -->\r\n",
       "<g id=\"edge2\" class=\"edge\"><title>1&#45;&gt;2</title>\r\n",
       "<path fill=\"none\" stroke=\"black\" d=\"M100.679,-103.726C95.2418,-94.9703 89.4869,-85.7032 84.0232,-76.9051\"/>\r\n",
       "<polygon fill=\"black\" stroke=\"black\" points=\"86.9281,-74.9484 78.6792,-68.2996 80.9815,-78.6413 86.9281,-74.9484\"/>\r\n",
       "</g>\r\n",
       "<!-- 3 -->\r\n",
       "<g id=\"node4\" class=\"node\"><title>3</title>\r\n",
       "<path fill=\"#f1bd98\" stroke=\"black\" d=\"M244,-68C244,-68 146,-68 146,-68 140,-68 134,-62 134,-56 134,-56 134,-12 134,-12 134,-6 140,-0 146,-0 146,-0 244,-0 244,-0 250,-0 256,-6 256,-12 256,-12 256,-56 256,-56 256,-62 250,-68 244,-68\"/>\r\n",
       "<text text-anchor=\"middle\" x=\"195\" y=\"-52.8\" font-family=\"Helvetica,sans-Serif\" font-size=\"14.00\">entropy = 0.909</text>\r\n",
       "<text text-anchor=\"middle\" x=\"195\" y=\"-37.8\" font-family=\"Helvetica,sans-Serif\" font-size=\"14.00\">samples = 259</text>\r\n",
       "<text text-anchor=\"middle\" x=\"195\" y=\"-22.8\" font-family=\"Helvetica,sans-Serif\" font-size=\"14.00\">value = [175, 84]</text>\r\n",
       "<text text-anchor=\"middle\" x=\"195\" y=\"-7.8\" font-family=\"Helvetica,sans-Serif\" font-size=\"14.00\">class = 후순위지역</text>\r\n",
       "</g>\r\n",
       "<!-- 1&#45;&gt;3 -->\r\n",
       "<g id=\"edge3\" class=\"edge\"><title>1&#45;&gt;3</title>\r\n",
       "<path fill=\"none\" stroke=\"black\" d=\"M151.693,-103.726C157.211,-94.9703 163.05,-85.7032 168.594,-76.9051\"/>\r\n",
       "<polygon fill=\"black\" stroke=\"black\" points=\"171.647,-78.6259 174.017,-68.2996 165.724,-74.8941 171.647,-78.6259\"/>\r\n",
       "</g>\r\n",
       "</g>\r\n",
       "</svg>\r\n"
      ],
      "text/plain": [
       "<graphviz.files.Source at 0x278fbe5b00>"
      ]
     },
     "execution_count": 51,
     "metadata": {},
     "output_type": "execute_result"
    }
   ],
   "source": [
    "graph3_b #data_b = df_b[['행정동별평균소득', '행정동별연금평균', '행정동별생활인구합계', '행정동별은행합계' ]]"
   ]
  },
  {
   "cell_type": "code",
   "execution_count": 52,
   "metadata": {},
   "outputs": [
    {
     "data": {
      "text/plain": [
       "0.6839622641509434"
      ]
     },
     "execution_count": 52,
     "metadata": {},
     "output_type": "execute_result"
    }
   ],
   "source": [
    "accuracy_score(target_b, clf3_b.predict(data_b))"
   ]
  }
 ],
 "metadata": {
  "kernelspec": {
   "display_name": "Python 3",
   "language": "python",
   "name": "python3"
  },
  "language_info": {
   "codemirror_mode": {
    "name": "ipython",
    "version": 3
   },
   "file_extension": ".py",
   "mimetype": "text/x-python",
   "name": "python",
   "nbconvert_exporter": "python",
   "pygments_lexer": "ipython3",
   "version": "3.8.3"
  }
 },
 "nbformat": 4,
 "nbformat_minor": 4
}
