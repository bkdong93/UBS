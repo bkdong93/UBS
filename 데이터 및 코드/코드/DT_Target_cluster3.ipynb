{
 "cells": [
  {
   "cell_type": "code",
   "execution_count": 1,
   "metadata": {},
   "outputs": [],
   "source": [
    "import pandas as pd\n",
    "import numpy as np\n",
    "import sklearn\n",
    "\n",
    "from sklearn.preprocessing import MinMaxScaler"
   ]
  },
  {
   "cell_type": "markdown",
   "metadata": {},
   "source": [
    "## 독거노인"
   ]
  },
  {
   "cell_type": "code",
   "execution_count": 2,
   "metadata": {
    "scrolled": true
   },
   "outputs": [],
   "source": [
    "df_독거노인= pd.read_excel('독거노인_정규화.xlsx', encoding='utf-8', thousands = ',') #숫자의 자릿수를 표현하는 ',' 제거\n",
    "\n",
    "del df_독거노인['Unnamed: 0']\n",
    "\n",
    "#df_독거노인"
   ]
  },
  {
   "cell_type": "markdown",
   "metadata": {},
   "source": [
    "## 요양기관"
   ]
  },
  {
   "cell_type": "code",
   "execution_count": 3,
   "metadata": {},
   "outputs": [],
   "source": [
    "df_요양기관= pd.read_excel('요양기관_정규화.xlsx', encoding='utf-8', thousands = ',')\n",
    "\n",
    "del df_요양기관['Unnamed: 0'] # Unnamed:0 제거\n",
    "\n",
    "#df_요양기관"
   ]
  },
  {
   "cell_type": "markdown",
   "metadata": {},
   "source": [
    "## 기초생활보장수급"
   ]
  },
  {
   "cell_type": "code",
   "execution_count": 4,
   "metadata": {},
   "outputs": [],
   "source": [
    "df_기초생활= pd.read_excel('기초생활보장수급자_정규화.xlsx', encoding='utf-8', thousands = ',')\n",
    "\n",
    "del df_기초생활['Unnamed: 0'] # Unnamed:0 제거\n",
    "\n",
    "#df_기초생활"
   ]
  },
  {
   "cell_type": "markdown",
   "metadata": {},
   "source": [
    "## 소득"
   ]
  },
  {
   "cell_type": "code",
   "execution_count": 5,
   "metadata": {},
   "outputs": [],
   "source": [
    "df_소득= pd.read_excel('소득_정규화.xlsx', encoding='utf-8', thousands = ',')\n",
    "\n",
    "del df_소득['Unnamed: 0'] # Unnamed:0 제거\n",
    "\n",
    "#df_소득"
   ]
  },
  {
   "cell_type": "markdown",
   "metadata": {},
   "source": [
    "## 생활인구"
   ]
  },
  {
   "cell_type": "code",
   "execution_count": 6,
   "metadata": {},
   "outputs": [],
   "source": [
    "df_생활인구= pd.read_excel('생활인구_정규화.xlsx', encoding='utf-8', thousands = ',')\n",
    "\n",
    "del df_생활인구['Unnamed: 0']\n",
    "#df_생활인구"
   ]
  },
  {
   "cell_type": "markdown",
   "metadata": {},
   "source": [
    "## 연금"
   ]
  },
  {
   "cell_type": "code",
   "execution_count": 7,
   "metadata": {},
   "outputs": [],
   "source": [
    "df_연금= pd.read_excel('연금_정규화.xlsx', encoding='utf-8', thousands = ',')\n",
    "\n",
    "del df_연금['Unnamed: 0']\n",
    "\n",
    "#df_연금"
   ]
  },
  {
   "cell_type": "markdown",
   "metadata": {},
   "source": [
    "## 은행"
   ]
  },
  {
   "cell_type": "code",
   "execution_count": 8,
   "metadata": {},
   "outputs": [],
   "source": [
    "df_은행= pd.read_excel('은행_정규화.xlsx', encoding='utf-8', thousands = ',')\n",
    "\n",
    "del df_은행['Unnamed: 0']\n",
    "\n",
    "#df_은행"
   ]
  },
  {
   "cell_type": "markdown",
   "metadata": {},
   "source": [
    "## 타겟A"
   ]
  },
  {
   "cell_type": "code",
   "execution_count": 9,
   "metadata": {},
   "outputs": [],
   "source": [
    "df_타겟_a= pd.read_excel('target_a3.xlsx', encoding='utf-8', thousands = ',')\n",
    "del df_타겟_a['Unnamed: 0'] \n",
    "#df_타겟_a"
   ]
  },
  {
   "cell_type": "markdown",
   "metadata": {},
   "source": [
    "## 타겟B"
   ]
  },
  {
   "cell_type": "code",
   "execution_count": 10,
   "metadata": {},
   "outputs": [],
   "source": [
    "df_타겟_b= pd.read_excel('target_b3.xlsx', encoding='utf-8', thousands = ',')\n",
    "del df_타겟_b['Unnamed: 0'] \n",
    "#df_타겟_b"
   ]
  },
  {
   "cell_type": "code",
   "execution_count": 11,
   "metadata": {},
   "outputs": [],
   "source": [
    "#target a merge : 독거노인 + 요양기관 + 기초생활보장수급\n",
    "df_a= pd.merge(df_독거노인, df_요양기관, on=[\"구\", \"동\"] ,  how='left')\n",
    "#df_a"
   ]
  },
  {
   "cell_type": "code",
   "execution_count": 12,
   "metadata": {},
   "outputs": [],
   "source": [
    "#merge column 삭제 및 rename\n",
    "del df_a['행정동코드_y']\n",
    "df_a.columns = ['행정동코드', '구', '동', '행정동별독거노인합계', '행정동별요양기관정원']\n",
    "#df_a"
   ]
  },
  {
   "cell_type": "code",
   "execution_count": 13,
   "metadata": {},
   "outputs": [],
   "source": [
    "#target a merge : 독거노인 + 요양기관 + 기초생활보장수급\n",
    "df_a= pd.merge(df_a, df_기초생활, on=[\"구\", \"동\"] ,  how='left')"
   ]
  },
  {
   "cell_type": "code",
   "execution_count": 14,
   "metadata": {},
   "outputs": [],
   "source": [
    "del df_a['행정동코드_y']\n",
    "df_a.columns = ['행정동코드', '구', '동', '행정동별독거노인합계', '행정동별요양기관정원', '행정동별기초생활보장수급자합계']\n",
    "#df_a"
   ]
  },
  {
   "cell_type": "code",
   "execution_count": 15,
   "metadata": {},
   "outputs": [
    {
     "data": {
      "text/plain": [
       "Index(['행정동코드_x', '구', '동', '행정동별독거노인합계', '행정동별요양기관정원', '행정동별기초생활보장수급자합계',\n",
       "       '행정동코드_y', '행정동별은행합계'],\n",
       "      dtype='object')"
      ]
     },
     "execution_count": 15,
     "metadata": {},
     "output_type": "execute_result"
    }
   ],
   "source": [
    "#은행 수 데이터 merge\n",
    "df_a= pd.merge(df_a, df_은행, on=[\"구\", \"동\"], how='left')\n",
    "df_a.columns"
   ]
  },
  {
   "cell_type": "code",
   "execution_count": 16,
   "metadata": {},
   "outputs": [],
   "source": [
    "del df_a['행정동코드_y']\n",
    "df_a.columns = ['행정동코드', '구', '동', '행정동별독거노인합계', '행정동별요양기관정원', '행정동별기초생활보장수급자합계', '행정동별은행합계']\n",
    "#df_a.columns = ['행정동코드', '구', '동', '행정동별독거노인합계', '행정동별요양기관정원', '행정동별은행합계']\n",
    "#df_a"
   ]
  },
  {
   "cell_type": "code",
   "execution_count": 17,
   "metadata": {},
   "outputs": [
    {
     "data": {
      "text/plain": [
       "Index(['행정동코드_x', '구', '동', '행정동별독거노인합계', '행정동별요양기관정원', '행정동별기초생활보장수급자합계',\n",
       "       '행정동별은행합계', '행정동코드_y', 'target_a3'],\n",
       "      dtype='object')"
      ]
     },
     "execution_count": 17,
     "metadata": {},
     "output_type": "execute_result"
    }
   ],
   "source": [
    "#target 데이터 merge\n",
    "df_a= pd.merge(df_a, df_타겟_a, on=[\"구\", \"동\"], how='left')\n",
    "df_a.columns"
   ]
  },
  {
   "cell_type": "code",
   "execution_count": 18,
   "metadata": {},
   "outputs": [],
   "source": [
    "del df_a['행정동코드_y']\n",
    "df_a.columns = ['행정동코드', '구', '동', '행정동별독거노인합계', '행정동별요양기관정원', '행정동별기초생활보장수급자합계', '행정동별은행합계', 'target_a3']\n",
    "#df_a.columns = ['행정동코드', '구', '동', '행정동별독거노인합계', '행정동별요양기관정원', '행정동별은행합계', 'target_a']\n",
    "#df_a"
   ]
  },
  {
   "cell_type": "code",
   "execution_count": 19,
   "metadata": {},
   "outputs": [],
   "source": [
    "#merge 소득 + 연금\n",
    "df_b= pd.merge(df_소득, df_연금, on=[\"구\", \"동\"] , how='left')"
   ]
  },
  {
   "cell_type": "code",
   "execution_count": 20,
   "metadata": {
    "scrolled": true
   },
   "outputs": [],
   "source": [
    "del df_b['행정동코드_y']\n",
    "df_b.columns = ['행정동코드', '구', '동', '행정동별평균소득', '행정동별연금평균']\n",
    "#df_b"
   ]
  },
  {
   "cell_type": "code",
   "execution_count": 21,
   "metadata": {},
   "outputs": [],
   "source": [
    "#merge 생활인구\n",
    "df_b= pd.merge(df_b, df_생활인구, on=[\"구\", \"동\"], how='left')"
   ]
  },
  {
   "cell_type": "code",
   "execution_count": 22,
   "metadata": {
    "scrolled": true
   },
   "outputs": [],
   "source": [
    "del df_b['행정동코드_y']\n",
    "df_b.columns = ['행정동코드', '구', '동', '행정동별평균소득', '행정동별연금평균', '행정동별생활인구합계']\n",
    "#df_b"
   ]
  },
  {
   "cell_type": "code",
   "execution_count": 23,
   "metadata": {},
   "outputs": [],
   "source": [
    "#merge 은행수\n",
    "df_b= pd.merge(df_b, df_은행, on=[\"구\", \"동\"], how='left')"
   ]
  },
  {
   "cell_type": "code",
   "execution_count": 24,
   "metadata": {},
   "outputs": [],
   "source": [
    "del df_b['행정동코드_y']\n",
    "df_b.columns = ['행정동코드', '구', '동', '행정동별평균소득', '행정동별연금평균', '행정동별생활인구합계', '행정동별은행합계']\n",
    "#df_b"
   ]
  },
  {
   "cell_type": "code",
   "execution_count": 25,
   "metadata": {},
   "outputs": [],
   "source": [
    "#merge target\n",
    "df_b= pd.merge(df_b, df_타겟_b, on=[\"구\", \"동\"], how='left')"
   ]
  },
  {
   "cell_type": "code",
   "execution_count": 26,
   "metadata": {
    "scrolled": true
   },
   "outputs": [],
   "source": [
    "del df_b['행정동코드_y']\n",
    "df_b.columns = ['행정동코드', '구', '동', '행정동별평균소득', '행정동별연금평균', '행정동별생활인구합계', '행정동별은행합계', 'target_b3']\n",
    "#df_b"
   ]
  },
  {
   "cell_type": "code",
   "execution_count": 27,
   "metadata": {
    "scrolled": true
   },
   "outputs": [],
   "source": [
    "#df_a"
   ]
  },
  {
   "cell_type": "code",
   "execution_count": 28,
   "metadata": {
    "scrolled": true
   },
   "outputs": [],
   "source": [
    "#df_b"
   ]
  },
  {
   "cell_type": "code",
   "execution_count": 29,
   "metadata": {},
   "outputs": [],
   "source": [
    "data_a = df_a[['행정동별독거노인합계', '행정동별요양기관정원', '행정동별기초생활보장수급자합계', '행정동별은행합계']]\n",
    "#data_a = df_a[['행정동별독거노인합계', '행정동별요양기관정원', '행정동별은행합계']]\n"
   ]
  },
  {
   "cell_type": "code",
   "execution_count": 30,
   "metadata": {},
   "outputs": [],
   "source": [
    "target_a = df_a['target_a3']"
   ]
  },
  {
   "cell_type": "code",
   "execution_count": 31,
   "metadata": {},
   "outputs": [],
   "source": [
    "data_a_feature_names = ['행정동별독거노인합계', '행정동별요양기관정원', '행정동별기초생활보장수급자합계', '행정동별은행합계']\n",
    "#data_a_feature_names = ['행정동별독거노인합계', '행정동별요양기관정원', '행정동별은행합계']"
   ]
  },
  {
   "cell_type": "code",
   "execution_count": 32,
   "metadata": {},
   "outputs": [],
   "source": [
    "#target_a_target_names = ['0', '1']\n",
    "target_a_target_names = ['후순위지역', '우선지역' ]"
   ]
  },
  {
   "cell_type": "code",
   "execution_count": 33,
   "metadata": {},
   "outputs": [],
   "source": [
    "data_b = df_b[['행정동별평균소득', '행정동별연금평균', '행정동별생활인구합계', '행정동별은행합계' ]]"
   ]
  },
  {
   "cell_type": "code",
   "execution_count": 34,
   "metadata": {},
   "outputs": [],
   "source": [
    "target_b = df_b['target_b3']"
   ]
  },
  {
   "cell_type": "code",
   "execution_count": 35,
   "metadata": {},
   "outputs": [],
   "source": [
    "data_b_feature_names = ['행정동별평균소득', '행정동별연금평균', '행정동별생활인구합계', '행정동별은행합계' ]"
   ]
  },
  {
   "cell_type": "code",
   "execution_count": 36,
   "metadata": {},
   "outputs": [],
   "source": [
    "#target_b_target_names = ['0', '1']\n",
    "target_b_target_names = ['후순위지역', '우선지역']"
   ]
  },
  {
   "cell_type": "code",
   "execution_count": 37,
   "metadata": {},
   "outputs": [],
   "source": [
    "import pandas as pd\n",
    "import numpy as np\n",
    "import matplotlib.pyplot as plt\n",
    "from sklearn import datasets\n",
    "from sklearn.model_selection import train_test_split\n",
    "from sklearn.metrics import confusion_matrix, accuracy_score"
   ]
  },
  {
   "cell_type": "code",
   "execution_count": 38,
   "metadata": {},
   "outputs": [
    {
     "name": "stdout",
     "output_type": "stream",
     "text": [
      "(339, 4) (85, 4) (339,) (85,)\n"
     ]
    }
   ],
   "source": [
    "x_a_train, x_a_test, y_a_train, y_a_test = train_test_split(data_a, target_a,\n",
    "                                                   test_size=0.2,\n",
    "                                                   random_state=333)\n",
    "print(x_a_train.shape, x_a_test.shape, y_a_train.shape, y_a_test.shape)"
   ]
  },
  {
   "cell_type": "code",
   "execution_count": 39,
   "metadata": {},
   "outputs": [
    {
     "name": "stdout",
     "output_type": "stream",
     "text": [
      "(339, 4) (85, 4) (339,) (85,)\n"
     ]
    }
   ],
   "source": [
    "x_b_train, x_b_test, y_b_train, y_b_test = train_test_split(data_b, target_b,\n",
    "                                                   test_size=0.2,\n",
    "                                                   random_state=333)\n",
    "print(x_b_train.shape, x_b_test.shape, y_b_train.shape, y_b_test.shape)"
   ]
  },
  {
   "cell_type": "code",
   "execution_count": 40,
   "metadata": {},
   "outputs": [],
   "source": [
    "from sklearn import tree"
   ]
  },
  {
   "cell_type": "code",
   "execution_count": 41,
   "metadata": {},
   "outputs": [],
   "source": [
    "import graphviz"
   ]
  },
  {
   "cell_type": "code",
   "execution_count": 42,
   "metadata": {},
   "outputs": [],
   "source": [
    "import os\n",
    "os.environ[\"PATH\"] += os.pathsep + \"C:/Program Files (x86)/Graphviz2.38/bin\""
   ]
  },
  {
   "cell_type": "code",
   "execution_count": 43,
   "metadata": {},
   "outputs": [],
   "source": [
    "clf3_a = tree.DecisionTreeClassifier(criterion = \"entropy\", max_depth= 2)"
   ]
  },
  {
   "cell_type": "code",
   "execution_count": 44,
   "metadata": {},
   "outputs": [],
   "source": [
    "clf3_b = tree.DecisionTreeClassifier(criterion = \"entropy\", max_depth= 2)"
   ]
  },
  {
   "cell_type": "code",
   "execution_count": 45,
   "metadata": {},
   "outputs": [
    {
     "name": "stdout",
     "output_type": "stream",
     "text": [
      "[[56  5]\n",
      " [17  7]]\n",
      "0.7411764705882353\n"
     ]
    }
   ],
   "source": [
    "clf3_a_dt = clf3_a.fit(x_a_train, y_a_train)\n",
    "\n",
    "y_a_pred3 = clf3_a.predict(x_a_test)\n",
    "\n",
    "print(confusion_matrix(y_a_test, y_a_pred3))\n",
    "print(accuracy_score(y_a_test, y_a_pred3))"
   ]
  },
  {
   "cell_type": "code",
   "execution_count": 46,
   "metadata": {},
   "outputs": [
    {
     "name": "stdout",
     "output_type": "stream",
     "text": [
      "[[42  7]\n",
      " [29  7]]\n",
      "0.5764705882352941\n"
     ]
    }
   ],
   "source": [
    "clf3_b_dt = clf3_b.fit(x_b_train, y_b_train)\n",
    "\n",
    "y_b_pred3 = clf3_b.predict(x_b_test)\n",
    "\n",
    "print(confusion_matrix(y_b_test, y_b_pred3))\n",
    "print(accuracy_score(y_b_test, y_b_pred3))"
   ]
  },
  {
   "cell_type": "code",
   "execution_count": 47,
   "metadata": {},
   "outputs": [],
   "source": [
    "dot_data3_a = tree.export_graphviz(clf3_a_dt, out_file =None, \n",
    "                               feature_names = data_a_feature_names,\n",
    "                               class_names = target_a_target_names,\n",
    "                               filled = True, rounded =True)\n",
    "\n",
    "graph3_a = graphviz.Source(dot_data3_a)"
   ]
  },
  {
   "cell_type": "code",
   "execution_count": 48,
   "metadata": {},
   "outputs": [],
   "source": [
    "dot_data3_b = tree.export_graphviz(clf3_b_dt, out_file =None, \n",
    "                               feature_names = data_b_feature_names,\n",
    "                               class_names = target_b_target_names,\n",
    "                               filled = True, rounded =True)\n",
    "\n",
    "graph3_b = graphviz.Source(dot_data3_b)"
   ]
  },
  {
   "cell_type": "code",
   "execution_count": 49,
   "metadata": {},
   "outputs": [
    {
     "data": {
      "image/svg+xml": [
       "<?xml version=\"1.0\" encoding=\"UTF-8\" standalone=\"no\"?>\r\n",
       "<!DOCTYPE svg PUBLIC \"-//W3C//DTD SVG 1.1//EN\"\r\n",
       " \"http://www.w3.org/Graphics/SVG/1.1/DTD/svg11.dtd\">\r\n",
       "<!-- Generated by graphviz version 2.38.0 (20140413.2041)\r\n",
       " -->\r\n",
       "<!-- Title: Tree Pages: 1 -->\r\n",
       "<svg width=\"586pt\" height=\"314pt\"\r\n",
       " viewBox=\"0.00 0.00 586.00 314.00\" xmlns=\"http://www.w3.org/2000/svg\" xmlns:xlink=\"http://www.w3.org/1999/xlink\">\r\n",
       "<g id=\"graph0\" class=\"graph\" transform=\"scale(1 1) rotate(0) translate(4 310)\">\r\n",
       "<title>Tree</title>\r\n",
       "<polygon fill=\"white\" stroke=\"none\" points=\"-4,4 -4,-310 582,-310 582,4 -4,4\"/>\r\n",
       "<!-- 0 -->\r\n",
       "<g id=\"node1\" class=\"node\"><title>0</title>\r\n",
       "<path fill=\"#f1be98\" stroke=\"black\" d=\"M374,-306C374,-306 208,-306 208,-306 202,-306 196,-300 196,-294 196,-294 196,-235 196,-235 196,-229 202,-223 208,-223 208,-223 374,-223 374,-223 380,-223 386,-229 386,-235 386,-235 386,-294 386,-294 386,-300 380,-306 374,-306\"/>\r\n",
       "<text text-anchor=\"middle\" x=\"291\" y=\"-290.8\" font-family=\"Helvetica,sans-Serif\" font-size=\"14.00\">행정동별요양기관정원 &lt;= 0.621</text>\r\n",
       "<text text-anchor=\"middle\" x=\"291\" y=\"-275.8\" font-family=\"Helvetica,sans-Serif\" font-size=\"14.00\">entropy = 0.909</text>\r\n",
       "<text text-anchor=\"middle\" x=\"291\" y=\"-260.8\" font-family=\"Helvetica,sans-Serif\" font-size=\"14.00\">samples = 339</text>\r\n",
       "<text text-anchor=\"middle\" x=\"291\" y=\"-245.8\" font-family=\"Helvetica,sans-Serif\" font-size=\"14.00\">value = [229, 110]</text>\r\n",
       "<text text-anchor=\"middle\" x=\"291\" y=\"-230.8\" font-family=\"Helvetica,sans-Serif\" font-size=\"14.00\">class = 후순위지역</text>\r\n",
       "</g>\r\n",
       "<!-- 1 -->\r\n",
       "<g id=\"node2\" class=\"node\"><title>1</title>\r\n",
       "<path fill=\"#eda775\" stroke=\"black\" d=\"M290,-187C290,-187 68,-187 68,-187 62,-187 56,-181 56,-175 56,-175 56,-116 56,-116 56,-110 62,-104 68,-104 68,-104 290,-104 290,-104 296,-104 302,-110 302,-116 302,-116 302,-175 302,-175 302,-181 296,-187 290,-187\"/>\r\n",
       "<text text-anchor=\"middle\" x=\"179\" y=\"-171.8\" font-family=\"Helvetica,sans-Serif\" font-size=\"14.00\">행정동별기초생활보장수급자합계 &lt;= 0.065</text>\r\n",
       "<text text-anchor=\"middle\" x=\"179\" y=\"-156.8\" font-family=\"Helvetica,sans-Serif\" font-size=\"14.00\">entropy = 0.781</text>\r\n",
       "<text text-anchor=\"middle\" x=\"179\" y=\"-141.8\" font-family=\"Helvetica,sans-Serif\" font-size=\"14.00\">samples = 250</text>\r\n",
       "<text text-anchor=\"middle\" x=\"179\" y=\"-126.8\" font-family=\"Helvetica,sans-Serif\" font-size=\"14.00\">value = [192, 58]</text>\r\n",
       "<text text-anchor=\"middle\" x=\"179\" y=\"-111.8\" font-family=\"Helvetica,sans-Serif\" font-size=\"14.00\">class = 후순위지역</text>\r\n",
       "</g>\r\n",
       "<!-- 0&#45;&gt;1 -->\r\n",
       "<g id=\"edge1\" class=\"edge\"><title>0&#45;&gt;1</title>\r\n",
       "<path fill=\"none\" stroke=\"black\" d=\"M252.142,-222.907C243.368,-213.742 233.972,-203.927 224.938,-194.489\"/>\r\n",
       "<polygon fill=\"black\" stroke=\"black\" points=\"227.233,-191.824 217.789,-187.021 222.176,-196.665 227.233,-191.824\"/>\r\n",
       "<text text-anchor=\"middle\" x=\"217.243\" y=\"-208.315\" font-family=\"Helvetica,sans-Serif\" font-size=\"14.00\">True</text>\r\n",
       "</g>\r\n",
       "<!-- 4 -->\r\n",
       "<g id=\"node5\" class=\"node\"><title>4</title>\r\n",
       "<path fill=\"#c6e3f8\" stroke=\"black\" d=\"M475.5,-187C475.5,-187 332.5,-187 332.5,-187 326.5,-187 320.5,-181 320.5,-175 320.5,-175 320.5,-116 320.5,-116 320.5,-110 326.5,-104 332.5,-104 332.5,-104 475.5,-104 475.5,-104 481.5,-104 487.5,-110 487.5,-116 487.5,-116 487.5,-175 487.5,-175 487.5,-181 481.5,-187 475.5,-187\"/>\r\n",
       "<text text-anchor=\"middle\" x=\"404\" y=\"-171.8\" font-family=\"Helvetica,sans-Serif\" font-size=\"14.00\">행정동별은행합계 &lt;= 0.009</text>\r\n",
       "<text text-anchor=\"middle\" x=\"404\" y=\"-156.8\" font-family=\"Helvetica,sans-Serif\" font-size=\"14.00\">entropy = 0.979</text>\r\n",
       "<text text-anchor=\"middle\" x=\"404\" y=\"-141.8\" font-family=\"Helvetica,sans-Serif\" font-size=\"14.00\">samples = 89</text>\r\n",
       "<text text-anchor=\"middle\" x=\"404\" y=\"-126.8\" font-family=\"Helvetica,sans-Serif\" font-size=\"14.00\">value = [37, 52]</text>\r\n",
       "<text text-anchor=\"middle\" x=\"404\" y=\"-111.8\" font-family=\"Helvetica,sans-Serif\" font-size=\"14.00\">class = 우선지역</text>\r\n",
       "</g>\r\n",
       "<!-- 0&#45;&gt;4 -->\r\n",
       "<g id=\"edge4\" class=\"edge\"><title>0&#45;&gt;4</title>\r\n",
       "<path fill=\"none\" stroke=\"black\" d=\"M330.205,-222.907C339.057,-213.742 348.537,-203.927 357.652,-194.489\"/>\r\n",
       "<polygon fill=\"black\" stroke=\"black\" points=\"360.435,-196.645 364.865,-187.021 355.4,-191.782 360.435,-196.645\"/>\r\n",
       "<text text-anchor=\"middle\" x=\"365.299\" y=\"-208.317\" font-family=\"Helvetica,sans-Serif\" font-size=\"14.00\">False</text>\r\n",
       "</g>\r\n",
       "<!-- 2 -->\r\n",
       "<g id=\"node3\" class=\"node\"><title>2</title>\r\n",
       "<path fill=\"#e88d4c\" stroke=\"black\" d=\"M110,-68C110,-68 12,-68 12,-68 6,-68 7.10543e-015,-62 7.10543e-015,-56 7.10543e-015,-56 7.10543e-015,-12 7.10543e-015,-12 7.10543e-015,-6 6,-0 12,-0 12,-0 110,-0 110,-0 116,-0 122,-6 122,-12 122,-12 122,-56 122,-56 122,-62 116,-68 110,-68\"/>\r\n",
       "<text text-anchor=\"middle\" x=\"61\" y=\"-52.8\" font-family=\"Helvetica,sans-Serif\" font-size=\"14.00\">entropy = 0.429</text>\r\n",
       "<text text-anchor=\"middle\" x=\"61\" y=\"-37.8\" font-family=\"Helvetica,sans-Serif\" font-size=\"14.00\">samples = 91</text>\r\n",
       "<text text-anchor=\"middle\" x=\"61\" y=\"-22.8\" font-family=\"Helvetica,sans-Serif\" font-size=\"14.00\">value = [83, 8]</text>\r\n",
       "<text text-anchor=\"middle\" x=\"61\" y=\"-7.8\" font-family=\"Helvetica,sans-Serif\" font-size=\"14.00\">class = 후순위지역</text>\r\n",
       "</g>\r\n",
       "<!-- 1&#45;&gt;2 -->\r\n",
       "<g id=\"edge2\" class=\"edge\"><title>1&#45;&gt;2</title>\r\n",
       "<path fill=\"none\" stroke=\"black\" d=\"M135.061,-103.726C125.036,-94.423 114.389,-84.5428 104.386,-75.2612\"/>\r\n",
       "<polygon fill=\"black\" stroke=\"black\" points=\"106.595,-72.5362 96.8845,-68.2996 101.834,-77.6673 106.595,-72.5362\"/>\r\n",
       "</g>\r\n",
       "<!-- 3 -->\r\n",
       "<g id=\"node4\" class=\"node\"><title>3</title>\r\n",
       "<path fill=\"#f1bb94\" stroke=\"black\" d=\"M250,-68C250,-68 152,-68 152,-68 146,-68 140,-62 140,-56 140,-56 140,-12 140,-12 140,-6 146,-0 152,-0 152,-0 250,-0 250,-0 256,-0 262,-6 262,-12 262,-12 262,-56 262,-56 262,-62 256,-68 250,-68\"/>\r\n",
       "<text text-anchor=\"middle\" x=\"201\" y=\"-52.8\" font-family=\"Helvetica,sans-Serif\" font-size=\"14.00\">entropy = 0.898</text>\r\n",
       "<text text-anchor=\"middle\" x=\"201\" y=\"-37.8\" font-family=\"Helvetica,sans-Serif\" font-size=\"14.00\">samples = 159</text>\r\n",
       "<text text-anchor=\"middle\" x=\"201\" y=\"-22.8\" font-family=\"Helvetica,sans-Serif\" font-size=\"14.00\">value = [109, 50]</text>\r\n",
       "<text text-anchor=\"middle\" x=\"201\" y=\"-7.8\" font-family=\"Helvetica,sans-Serif\" font-size=\"14.00\">class = 후순위지역</text>\r\n",
       "</g>\r\n",
       "<!-- 1&#45;&gt;3 -->\r\n",
       "<g id=\"edge3\" class=\"edge\"><title>1&#45;&gt;3</title>\r\n",
       "<path fill=\"none\" stroke=\"black\" d=\"M187.192,-103.726C188.86,-95.4263 190.619,-86.6671 192.304,-78.2834\"/>\r\n",
       "<polygon fill=\"black\" stroke=\"black\" points=\"195.771,-78.7931 194.31,-68.2996 188.908,-77.4142 195.771,-78.7931\"/>\r\n",
       "</g>\r\n",
       "<!-- 5 -->\r\n",
       "<g id=\"node6\" class=\"node\"><title>5</title>\r\n",
       "<path fill=\"#e78c4b\" stroke=\"black\" d=\"M432,-68C432,-68 334,-68 334,-68 328,-68 322,-62 322,-56 322,-56 322,-12 322,-12 322,-6 328,-0 334,-0 334,-0 432,-0 432,-0 438,-0 444,-6 444,-12 444,-12 444,-56 444,-56 444,-62 438,-68 432,-68\"/>\r\n",
       "<text text-anchor=\"middle\" x=\"383\" y=\"-52.8\" font-family=\"Helvetica,sans-Serif\" font-size=\"14.00\">entropy = 0.414</text>\r\n",
       "<text text-anchor=\"middle\" x=\"383\" y=\"-37.8\" font-family=\"Helvetica,sans-Serif\" font-size=\"14.00\">samples = 12</text>\r\n",
       "<text text-anchor=\"middle\" x=\"383\" y=\"-22.8\" font-family=\"Helvetica,sans-Serif\" font-size=\"14.00\">value = [11, 1]</text>\r\n",
       "<text text-anchor=\"middle\" x=\"383\" y=\"-7.8\" font-family=\"Helvetica,sans-Serif\" font-size=\"14.00\">class = 후순위지역</text>\r\n",
       "</g>\r\n",
       "<!-- 4&#45;&gt;5 -->\r\n",
       "<g id=\"edge5\" class=\"edge\"><title>4&#45;&gt;5</title>\r\n",
       "<path fill=\"none\" stroke=\"black\" d=\"M396.18,-103.726C394.589,-95.4263 392.909,-86.6671 391.301,-78.2834\"/>\r\n",
       "<polygon fill=\"black\" stroke=\"black\" points=\"394.707,-77.4614 389.386,-68.2996 387.832,-78.7799 394.707,-77.4614\"/>\r\n",
       "</g>\r\n",
       "<!-- 6 -->\r\n",
       "<g id=\"node7\" class=\"node\"><title>6</title>\r\n",
       "<path fill=\"#9ecff2\" stroke=\"black\" d=\"M566,-68C566,-68 474,-68 474,-68 468,-68 462,-62 462,-56 462,-56 462,-12 462,-12 462,-6 468,-0 474,-0 474,-0 566,-0 566,-0 572,-0 578,-6 578,-12 578,-12 578,-56 578,-56 578,-62 572,-68 566,-68\"/>\r\n",
       "<text text-anchor=\"middle\" x=\"520\" y=\"-52.8\" font-family=\"Helvetica,sans-Serif\" font-size=\"14.00\">entropy = 0.923</text>\r\n",
       "<text text-anchor=\"middle\" x=\"520\" y=\"-37.8\" font-family=\"Helvetica,sans-Serif\" font-size=\"14.00\">samples = 77</text>\r\n",
       "<text text-anchor=\"middle\" x=\"520\" y=\"-22.8\" font-family=\"Helvetica,sans-Serif\" font-size=\"14.00\">value = [26, 51]</text>\r\n",
       "<text text-anchor=\"middle\" x=\"520\" y=\"-7.8\" font-family=\"Helvetica,sans-Serif\" font-size=\"14.00\">class = 우선지역</text>\r\n",
       "</g>\r\n",
       "<!-- 4&#45;&gt;6 -->\r\n",
       "<g id=\"edge6\" class=\"edge\"><title>4&#45;&gt;6</title>\r\n",
       "<path fill=\"none\" stroke=\"black\" d=\"M447.194,-103.726C457.05,-94.423 467.516,-84.5428 477.349,-75.2612\"/>\r\n",
       "<polygon fill=\"black\" stroke=\"black\" points=\"479.854,-77.7092 484.724,-68.2996 475.049,-72.6189 479.854,-77.7092\"/>\r\n",
       "</g>\r\n",
       "</g>\r\n",
       "</svg>\r\n"
      ],
      "text/plain": [
       "<graphviz.files.Source at 0xa50e7745f8>"
      ]
     },
     "execution_count": 49,
     "metadata": {},
     "output_type": "execute_result"
    }
   ],
   "source": [
    "graph3_a #data_a = df_a[['행정동별독거노인합계', '행정동별요양기관정원', '행정동별기초생활보장수급자합계', '행정동별은행합계']]"
   ]
  },
  {
   "cell_type": "code",
   "execution_count": 50,
   "metadata": {},
   "outputs": [
    {
     "data": {
      "text/plain": [
       "0.7476415094339622"
      ]
     },
     "execution_count": 50,
     "metadata": {},
     "output_type": "execute_result"
    }
   ],
   "source": [
    "accuracy_score(target_a, clf3_a.predict(data_a))"
   ]
  },
  {
   "cell_type": "code",
   "execution_count": 51,
   "metadata": {},
   "outputs": [
    {
     "data": {
      "image/svg+xml": [
       "<?xml version=\"1.0\" encoding=\"UTF-8\" standalone=\"no\"?>\r\n",
       "<!DOCTYPE svg PUBLIC \"-//W3C//DTD SVG 1.1//EN\"\r\n",
       " \"http://www.w3.org/Graphics/SVG/1.1/DTD/svg11.dtd\">\r\n",
       "<!-- Generated by graphviz version 2.38.0 (20140413.2041)\r\n",
       " -->\r\n",
       "<!-- Title: Tree Pages: 1 -->\r\n",
       "<svg width=\"360pt\" height=\"314pt\"\r\n",
       " viewBox=\"0.00 0.00 360.00 314.00\" xmlns=\"http://www.w3.org/2000/svg\" xmlns:xlink=\"http://www.w3.org/1999/xlink\">\r\n",
       "<g id=\"graph0\" class=\"graph\" transform=\"scale(1 1) rotate(0) translate(4 310)\">\r\n",
       "<title>Tree</title>\r\n",
       "<polygon fill=\"white\" stroke=\"none\" points=\"-4,4 -4,-310 356,-310 356,4 -4,4\"/>\r\n",
       "<!-- 0 -->\r\n",
       "<g id=\"node1\" class=\"node\"><title>0</title>\r\n",
       "<path fill=\"#f6d4bc\" stroke=\"black\" d=\"M280.5,-306C280.5,-306 137.5,-306 137.5,-306 131.5,-306 125.5,-300 125.5,-294 125.5,-294 125.5,-235 125.5,-235 125.5,-229 131.5,-223 137.5,-223 137.5,-223 280.5,-223 280.5,-223 286.5,-223 292.5,-229 292.5,-235 292.5,-235 292.5,-294 292.5,-294 292.5,-300 286.5,-306 280.5,-306\"/>\r\n",
       "<text text-anchor=\"middle\" x=\"209\" y=\"-290.8\" font-family=\"Helvetica,sans-Serif\" font-size=\"14.00\">행정동별은행합계 &lt;= 0.274</text>\r\n",
       "<text text-anchor=\"middle\" x=\"209\" y=\"-275.8\" font-family=\"Helvetica,sans-Serif\" font-size=\"14.00\">entropy = 0.97</text>\r\n",
       "<text text-anchor=\"middle\" x=\"209\" y=\"-260.8\" font-family=\"Helvetica,sans-Serif\" font-size=\"14.00\">samples = 339</text>\r\n",
       "<text text-anchor=\"middle\" x=\"209\" y=\"-245.8\" font-family=\"Helvetica,sans-Serif\" font-size=\"14.00\">value = [204, 135]</text>\r\n",
       "<text text-anchor=\"middle\" x=\"209\" y=\"-230.8\" font-family=\"Helvetica,sans-Serif\" font-size=\"14.00\">class = 후순위지역</text>\r\n",
       "</g>\r\n",
       "<!-- 1 -->\r\n",
       "<g id=\"node2\" class=\"node\"><title>1</title>\r\n",
       "<path fill=\"#f8ddc9\" stroke=\"black\" d=\"M199.5,-187C199.5,-187 56.5,-187 56.5,-187 50.5,-187 44.5,-181 44.5,-175 44.5,-175 44.5,-116 44.5,-116 44.5,-110 50.5,-104 56.5,-104 56.5,-104 199.5,-104 199.5,-104 205.5,-104 211.5,-110 211.5,-116 211.5,-116 211.5,-175 211.5,-175 211.5,-181 205.5,-187 199.5,-187\"/>\r\n",
       "<text text-anchor=\"middle\" x=\"128\" y=\"-171.8\" font-family=\"Helvetica,sans-Serif\" font-size=\"14.00\">행정동별연금평균 &lt;= 0.082</text>\r\n",
       "<text text-anchor=\"middle\" x=\"128\" y=\"-156.8\" font-family=\"Helvetica,sans-Serif\" font-size=\"14.00\">entropy = 0.982</text>\r\n",
       "<text text-anchor=\"middle\" x=\"128\" y=\"-141.8\" font-family=\"Helvetica,sans-Serif\" font-size=\"14.00\">samples = 320</text>\r\n",
       "<text text-anchor=\"middle\" x=\"128\" y=\"-126.8\" font-family=\"Helvetica,sans-Serif\" font-size=\"14.00\">value = [185, 135]</text>\r\n",
       "<text text-anchor=\"middle\" x=\"128\" y=\"-111.8\" font-family=\"Helvetica,sans-Serif\" font-size=\"14.00\">class = 후순위지역</text>\r\n",
       "</g>\r\n",
       "<!-- 0&#45;&gt;1 -->\r\n",
       "<g id=\"edge1\" class=\"edge\"><title>0&#45;&gt;1</title>\r\n",
       "<path fill=\"none\" stroke=\"black\" d=\"M180.897,-222.907C174.74,-214.014 168.16,-204.509 161.806,-195.331\"/>\r\n",
       "<polygon fill=\"black\" stroke=\"black\" points=\"164.623,-193.251 156.053,-187.021 158.867,-197.235 164.623,-193.251\"/>\r\n",
       "<text text-anchor=\"middle\" x=\"151.581\" y=\"-207.918\" font-family=\"Helvetica,sans-Serif\" font-size=\"14.00\">True</text>\r\n",
       "</g>\r\n",
       "<!-- 4 -->\r\n",
       "<g id=\"node5\" class=\"node\"><title>4</title>\r\n",
       "<path fill=\"#e58139\" stroke=\"black\" d=\"M340,-179.5C340,-179.5 242,-179.5 242,-179.5 236,-179.5 230,-173.5 230,-167.5 230,-167.5 230,-123.5 230,-123.5 230,-117.5 236,-111.5 242,-111.5 242,-111.5 340,-111.5 340,-111.5 346,-111.5 352,-117.5 352,-123.5 352,-123.5 352,-167.5 352,-167.5 352,-173.5 346,-179.5 340,-179.5\"/>\r\n",
       "<text text-anchor=\"middle\" x=\"291\" y=\"-164.3\" font-family=\"Helvetica,sans-Serif\" font-size=\"14.00\">entropy = 0.0</text>\r\n",
       "<text text-anchor=\"middle\" x=\"291\" y=\"-149.3\" font-family=\"Helvetica,sans-Serif\" font-size=\"14.00\">samples = 19</text>\r\n",
       "<text text-anchor=\"middle\" x=\"291\" y=\"-134.3\" font-family=\"Helvetica,sans-Serif\" font-size=\"14.00\">value = [19, 0]</text>\r\n",
       "<text text-anchor=\"middle\" x=\"291\" y=\"-119.3\" font-family=\"Helvetica,sans-Serif\" font-size=\"14.00\">class = 후순위지역</text>\r\n",
       "</g>\r\n",
       "<!-- 0&#45;&gt;4 -->\r\n",
       "<g id=\"edge4\" class=\"edge\"><title>0&#45;&gt;4</title>\r\n",
       "<path fill=\"none\" stroke=\"black\" d=\"M237.449,-222.907C245.338,-211.652 253.912,-199.418 261.84,-188.106\"/>\r\n",
       "<polygon fill=\"black\" stroke=\"black\" points=\"264.882,-189.865 267.755,-179.667 259.149,-185.847 264.882,-189.865\"/>\r\n",
       "<text text-anchor=\"middle\" x=\"272.085\" y=\"-200.589\" font-family=\"Helvetica,sans-Serif\" font-size=\"14.00\">False</text>\r\n",
       "</g>\r\n",
       "<!-- 2 -->\r\n",
       "<g id=\"node3\" class=\"node\"><title>2</title>\r\n",
       "<path fill=\"#b7dbf6\" stroke=\"black\" d=\"M104,-68C104,-68 12,-68 12,-68 6,-68 0,-62 0,-56 0,-56 0,-12 0,-12 0,-6 6,-0 12,-0 12,-0 104,-0 104,-0 110,-0 116,-6 116,-12 116,-12 116,-56 116,-56 116,-62 110,-68 104,-68\"/>\r\n",
       "<text text-anchor=\"middle\" x=\"58\" y=\"-52.8\" font-family=\"Helvetica,sans-Serif\" font-size=\"14.00\">entropy = 0.964</text>\r\n",
       "<text text-anchor=\"middle\" x=\"58\" y=\"-37.8\" font-family=\"Helvetica,sans-Serif\" font-size=\"14.00\">samples = 54</text>\r\n",
       "<text text-anchor=\"middle\" x=\"58\" y=\"-22.8\" font-family=\"Helvetica,sans-Serif\" font-size=\"14.00\">value = [21, 33]</text>\r\n",
       "<text text-anchor=\"middle\" x=\"58\" y=\"-7.8\" font-family=\"Helvetica,sans-Serif\" font-size=\"14.00\">class = 우선지역</text>\r\n",
       "</g>\r\n",
       "<!-- 1&#45;&gt;2 -->\r\n",
       "<g id=\"edge2\" class=\"edge\"><title>1&#45;&gt;2</title>\r\n",
       "<path fill=\"none\" stroke=\"black\" d=\"M101.935,-103.726C96.3371,-94.9703 90.413,-85.7032 84.7886,-76.9051\"/>\r\n",
       "<polygon fill=\"black\" stroke=\"black\" points=\"87.6226,-74.8399 79.2874,-68.2996 81.7247,-78.6103 87.6226,-74.8399\"/>\r\n",
       "</g>\r\n",
       "<!-- 3 -->\r\n",
       "<g id=\"node4\" class=\"node\"><title>3</title>\r\n",
       "<path fill=\"#f5cfb4\" stroke=\"black\" d=\"M252,-68C252,-68 146,-68 146,-68 140,-68 134,-62 134,-56 134,-56 134,-12 134,-12 134,-6 140,-0 146,-0 146,-0 252,-0 252,-0 258,-0 264,-6 264,-12 264,-12 264,-56 264,-56 264,-62 258,-68 252,-68\"/>\r\n",
       "<text text-anchor=\"middle\" x=\"199\" y=\"-52.8\" font-family=\"Helvetica,sans-Serif\" font-size=\"14.00\">entropy = 0.96</text>\r\n",
       "<text text-anchor=\"middle\" x=\"199\" y=\"-37.8\" font-family=\"Helvetica,sans-Serif\" font-size=\"14.00\">samples = 266</text>\r\n",
       "<text text-anchor=\"middle\" x=\"199\" y=\"-22.8\" font-family=\"Helvetica,sans-Serif\" font-size=\"14.00\">value = [164, 102]</text>\r\n",
       "<text text-anchor=\"middle\" x=\"199\" y=\"-7.8\" font-family=\"Helvetica,sans-Serif\" font-size=\"14.00\">class = 후순위지역</text>\r\n",
       "</g>\r\n",
       "<!-- 1&#45;&gt;3 -->\r\n",
       "<g id=\"edge3\" class=\"edge\"><title>1&#45;&gt;3</title>\r\n",
       "<path fill=\"none\" stroke=\"black\" d=\"M154.438,-103.726C160.115,-94.9703 166.124,-85.7032 171.829,-76.9051\"/>\r\n",
       "<polygon fill=\"black\" stroke=\"black\" points=\"174.905,-78.5943 177.408,-68.2996 169.031,-74.786 174.905,-78.5943\"/>\r\n",
       "</g>\r\n",
       "</g>\r\n",
       "</svg>\r\n"
      ],
      "text/plain": [
       "<graphviz.files.Source at 0xa50e761cf8>"
      ]
     },
     "execution_count": 51,
     "metadata": {},
     "output_type": "execute_result"
    }
   ],
   "source": [
    "graph3_b #data_b = df_b[['행정동별평균소득', '행정동별연금평균', '행정동별생활인구합계', '행정동별은행합계' ]]"
   ]
  },
  {
   "cell_type": "code",
   "execution_count": 52,
   "metadata": {},
   "outputs": [
    {
     "data": {
      "text/plain": [
       "0.625"
      ]
     },
     "execution_count": 52,
     "metadata": {},
     "output_type": "execute_result"
    }
   ],
   "source": [
    "accuracy_score(target_b, clf3_b.predict(data_b))"
   ]
  }
 ],
 "metadata": {
  "kernelspec": {
   "display_name": "Python 3",
   "language": "python",
   "name": "python3"
  },
  "language_info": {
   "codemirror_mode": {
    "name": "ipython",
    "version": 3
   },
   "file_extension": ".py",
   "mimetype": "text/x-python",
   "name": "python",
   "nbconvert_exporter": "python",
   "pygments_lexer": "ipython3",
   "version": "3.8.3"
  }
 },
 "nbformat": 4,
 "nbformat_minor": 4
}
