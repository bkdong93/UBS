{
 "cells": [
  {
   "cell_type": "code",
   "execution_count": 1,
   "metadata": {},
   "outputs": [],
   "source": [
    "import pandas as pd\n",
    "\n",
    "from sklearn.cluster import KMeans\n",
    "import matplotlib.pyplot as plt\n",
    "import seaborn as sns\n",
    "\n",
    "import numpy as np"
   ]
  },
  {
   "cell_type": "markdown",
   "metadata": {},
   "source": [
    "## 데이터 불러오기 빅데이터 센터 가서는 주석 다 풀고 실행하세요(ln[2, 4, 5])"
   ]
  },
  {
   "cell_type": "code",
   "execution_count": 2,
   "metadata": {
    "scrolled": true
   },
   "outputs": [],
   "source": [
    "df_은행 = pd.read_excel(\"은행_정규화.xlsx\") \n",
    "#df_연금 = pd.read_excel(\"연금_정규화.xlsx\")\n",
    "#df_생활인구 = pd.read_excel(\"생활인구_정규화.xlsx\")\n",
    "df_독거노인 = pd.read_excel(\"독거노인_정규화.xlsx\")\n",
    "#df_소득 = pd.read_excel(\"소득_정규화.xlsx\")\n",
    "df_기초생활 = pd.read_excel(\"기초생활보장수급자_정규화.xlsx\")\n",
    "df_요양기관 = pd.read_excel(\"요양기관_정규화.xlsx\")"
   ]
  },
  {
   "cell_type": "code",
   "execution_count": 3,
   "metadata": {
    "scrolled": true
   },
   "outputs": [],
   "source": [
    "## 은행분포 : 값이 낮을수록 은행 분포가 낮고 값이 높을수록 은행 분포가 높도록 설정\n",
    "df_은행[\"행정동별은행분포\"]=1-df_은행[\"행정동별은행합계\"] \n",
    "#df_은행"
   ]
  },
  {
   "cell_type": "code",
   "execution_count": 4,
   "metadata": {},
   "outputs": [],
   "source": [
    "#df_은행[\"행정동코드\"] = df_연금[\"행정동코드\"]\n",
    "#df_은행[\"행정동코드\"] = df_소득[\"행정동코드\"]\n",
    "df_은행[\"행정동코드\"] = df_독거노인[\"행정동코드\"]\n",
    "#df_은행[\"행정동코드\"] = df_생활인구[\"행정동코드\"]\n",
    "df_은행[\"행정동코드\"] = df_요양기관[\"행정동코드\"]\n",
    "df_은행[\"행정동코드\"] = df_기초생활[\"행정동코드\"]"
   ]
  },
  {
   "cell_type": "code",
   "execution_count": 5,
   "metadata": {},
   "outputs": [],
   "source": [
    "#TargetA 가중치\n",
    "df_은행[\"TargetA밀도\"] =df_독거노인[\"행정동별독거노인합계\"]*0.25+df_요양기관[\"행정동별요양기관정원\"]*0.25+ df_기초생활[\"행정동별기초생활보장수급자합계\"]*0.5\n",
    "\n",
    "\n",
    "#TargetB 가중치\n",
    "#df_은행[\"TargetB밀도\"] = df_소득[\"행정동별평균소득\"]*0.5 + df_연금[\"행정동별연금평균\"]*0.25 +df_생활인구[\"행정동별생활인구합계\"]*0.25\n"
   ]
  },
  {
   "cell_type": "code",
   "execution_count": 6,
   "metadata": {
    "scrolled": true
   },
   "outputs": [],
   "source": [
    "#df_은행"
   ]
  },
  {
   "cell_type": "code",
   "execution_count": 7,
   "metadata": {},
   "outputs": [],
   "source": [
    "# KMeans (TargetA)"
   ]
  },
  {
   "cell_type": "code",
   "execution_count": 8,
   "metadata": {
    "scrolled": true
   },
   "outputs": [],
   "source": [
    "X_a = df_은행[[\"행정동별은행분포\",\"TargetA밀도\"]]\n",
    "#X_a "
   ]
  },
  {
   "cell_type": "code",
   "execution_count": 9,
   "metadata": {
    "scrolled": true
   },
   "outputs": [
    {
     "data": {
      "image/png": "[encoded data removed]",
      "text/plain": [
       "<Figure size 432x288 with 1 Axes>"
      ]
     },
     "metadata": {
      "needs_background": "light"
     },
     "output_type": "display_data"
    }
   ],
   "source": [
    "# Inertia value를 이용한 적정 군집수 판단\n",
    "\n",
    "ks = range(1,10) # 1부터 10까지의 군집을 가지고 있을때\n",
    "\n",
    "inertias = []\n",
    "\n",
    "\n",
    "\n",
    "for k in ks:\n",
    "\n",
    "    kMeans = KMeans(n_clusters=k)\n",
    "\n",
    "    kMeans.fit(X_a)\n",
    "\n",
    "    inertias.append(kMeans.inertia_)\n",
    "\n",
    "    \n",
    "\n",
    "# Plot ks vs inertias\n",
    "\n",
    "plt.plot(ks, inertias, '-o')\n",
    "\n",
    "plt.xlabel('Number of clusters, k')\n",
    "\n",
    "plt.ylabel('inertia')\n",
    "\n",
    "plt.xticks(ks)\n",
    "\n",
    "plt.show() \n"
   ]
  },
  {
   "cell_type": "code",
   "execution_count": 10,
   "metadata": {
    "scrolled": true
   },
   "outputs": [
    {
     "data": {
      "text/plain": [
       "array([2, 0, 0, 0, 0, 0, 0, 2, 0, 0, 0, 0, 0, 0, 0, 0, 2, 2, 2, 0, 0, 2,\n",
       "       0, 0, 0, 0, 0, 0, 0, 0, 0, 0, 0, 0, 1, 0, 0, 0, 0, 0, 0, 0, 2, 1,\n",
       "       1, 0, 0, 1, 0, 1, 0, 0, 1, 0, 0, 0, 0, 0, 1, 0, 0, 1, 1, 1, 0, 0,\n",
       "       1, 0, 1, 1, 1, 0, 0, 0, 0, 0, 0, 0, 0, 0, 0, 0, 0, 1, 1, 1, 1, 0,\n",
       "       0, 1, 1, 0, 1, 0, 1, 1, 0, 0, 1, 0, 0, 1, 0, 0, 1, 1, 1, 1, 1, 1,\n",
       "       0, 0, 0, 0, 0, 1, 1, 1, 1, 0, 1, 1, 1, 1, 0, 0, 1, 0, 1, 1, 1, 1,\n",
       "       1, 1, 1, 1, 1, 1, 1, 1, 1, 1, 1, 1, 1, 1, 0, 1, 1, 1, 1, 1, 1, 1,\n",
       "       1, 1, 1, 1, 1, 1, 1, 1, 1, 1, 1, 1, 1, 0, 1, 0, 0, 0, 1, 1, 1, 1,\n",
       "       1, 1, 1, 1, 1, 1, 0, 0, 2, 0, 0, 0, 0, 1, 1, 1, 0, 0, 0, 0, 0, 0,\n",
       "       0, 0, 0, 1, 0, 0, 0, 0, 0, 0, 0, 0, 0, 0, 0, 0, 0, 0, 1, 0, 0, 0,\n",
       "       1, 0, 0, 0, 0, 0, 1, 0, 0, 0, 0, 0, 0, 2, 0, 1, 0, 0, 0, 0, 0, 0,\n",
       "       0, 1, 0, 0, 2, 0, 0, 0, 0, 1, 1, 0, 0, 2, 1, 1, 1, 0, 0, 0, 0, 0,\n",
       "       0, 0, 0, 2, 0, 0, 1, 0, 0, 1, 1, 0, 1, 0, 0, 0, 1, 0, 0, 0, 1, 0,\n",
       "       0, 0, 0, 0, 0, 0, 0, 0, 0, 0, 0, 0, 0, 0, 1, 2, 2, 2, 1, 0, 0, 0,\n",
       "       0, 0, 0, 0, 1, 0, 0, 1, 2, 1, 1, 2, 2, 2, 0, 0, 2, 2, 0, 0, 2, 0,\n",
       "       0, 0, 0, 0, 1, 0, 2, 2, 2, 0, 0, 0, 0, 0, 0, 0, 0, 0, 0, 0, 0, 0,\n",
       "       0, 0, 1, 0, 0, 0, 0, 0, 0, 2, 0, 0, 1, 1, 0, 0, 0, 1, 0, 1, 1, 1,\n",
       "       1, 1, 0, 0, 0, 0, 0, 0, 0, 0, 0, 0, 0, 0, 0, 0, 0, 0, 0, 0, 0, 0,\n",
       "       0, 0, 0, 0, 0, 0, 0, 0, 0, 0, 0, 0, 0, 0, 0, 0, 0, 0, 1, 1, 0, 1,\n",
       "       1, 1, 1, 1, 1, 1])"
      ]
     },
     "execution_count": 10,
     "metadata": {},
     "output_type": "execute_result"
    }
   ],
   "source": [
    "# 3 에서 5까지 변화의 값이 크지않다. 그러므로 3개에서 5개 사이의 클러스터를 가졌을때 적절하다\n",
    "# k = 3로 설정\n",
    "kMeans = KMeans(n_clusters=3,algorithm='auto')\n",
    "kMeans.fit(X_a)\n",
    "\n",
    "y_kmed = kMeans.fit_predict(X_a)\n",
    "\n",
    "predict_a3 = pd.DataFrame(kMeans.predict(X_a))\n",
    "predict_a3.columns=['predict_a3']\n",
    "\n",
    "y_kmed"
   ]
  },
  {
   "cell_type": "code",
   "execution_count": 11,
   "metadata": {
    "scrolled": false
   },
   "outputs": [
    {
     "data": {
      "text/plain": [
       "4.697458692774806"
      ]
     },
     "execution_count": 11,
     "metadata": {},
     "output_type": "execute_result"
    }
   ],
   "source": [
    "kMeans.inertia_"
   ]
  },
  {
   "cell_type": "code",
   "execution_count": 12,
   "metadata": {},
   "outputs": [
    {
     "name": "stdout",
     "output_type": "stream",
     "text": [
      "0.4486779614226936\n"
     ]
    }
   ],
   "source": [
    "from sklearn.metrics import silhouette_samples, silhouette_score\n",
    "\n",
    "silhouette_avg = silhouette_score(X_a, y_kmed)\n",
    "print(silhouette_avg)"
   ]
  },
  {
   "cell_type": "code",
   "execution_count": 13,
   "metadata": {
    "scrolled": true
   },
   "outputs": [
    {
     "name": "stdout",
     "output_type": "stream",
     "text": [
      "0.47315426561321766\n",
      "0.4276555401732721\n",
      "0.3084956591582368\n"
     ]
    }
   ],
   "source": [
    "sample_silhouette_values = silhouette_samples(X_a, y_kmed)\n",
    "for i in range(3):\n",
    "    ith_cluster_silhouette_values = sample_silhouette_values[y_kmed == i]\n",
    "    print(np.mean(ith_cluster_silhouette_values))"
   ]
  },
  {
   "cell_type": "code",
   "execution_count": 14,
   "metadata": {
    "scrolled": true
   },
   "outputs": [],
   "source": [
    "r = pd.concat([X_a,predict_a3],axis=1)\n",
    "#r"
   ]
  },
  {
   "cell_type": "code",
   "execution_count": 15,
   "metadata": {},
   "outputs": [
    {
     "data": {
      "text/plain": [
       "<matplotlib.collections.PathCollection at 0x2a5735f0a30>"
      ]
     },
     "execution_count": 15,
     "metadata": {},
     "output_type": "execute_result"
    },
    {
     "data": {
      "image/png": "[encoded data removed]",
      "text/plain": [
       "<Figure size 432x288 with 1 Axes>"
      ]
     },
     "metadata": {
      "needs_background": "light"
     },
     "output_type": "display_data"
    }
   ],
   "source": [
    "#분포도 시각화\n",
    "plt.scatter(r['행정동별은행분포'],r['TargetA밀도'],c=r['predict_a3'],alpha=0.5)\n"
   ]
  },
  {
   "cell_type": "code",
   "execution_count": 16,
   "metadata": {},
   "outputs": [
    {
     "data": {
      "text/plain": [
       "<matplotlib.collections.PathCollection at 0x2a57365b940>"
      ]
     },
     "execution_count": 16,
     "metadata": {},
     "output_type": "execute_result"
    },
    {
     "data": {
      "image/png": "[encoded data removed]",
      "text/plain": [
       "<Figure size 432x288 with 1 Axes>"
      ]
     },
     "metadata": {
      "needs_background": "light"
     },
     "output_type": "display_data"
    }
   ],
   "source": [
    "#중심표시\n",
    "centers = pd.DataFrame(kMeans.cluster_centers_,columns=['행정동별은행분포','TargetA밀도'])\n",
    "center_x = centers['행정동별은행분포']\n",
    "center_y = centers['TargetA밀도']\n",
    "plt.scatter(center_x,center_y,s=50,marker='D',c='r')"
   ]
  },
  {
   "cell_type": "code",
   "execution_count": 17,
   "metadata": {},
   "outputs": [
    {
     "data": {
      "text/plain": [
       "<matplotlib.collections.PathCollection at 0x2a5736b5a30>"
      ]
     },
     "execution_count": 17,
     "metadata": {},
     "output_type": "execute_result"
    },
    {
     "data": {
      "image/png": "[encoded data removed]",
      "text/plain": [
       "<Figure size 432x288 with 1 Axes>"
      ]
     },
     "metadata": {
      "needs_background": "light"
     },
     "output_type": "display_data"
    }
   ],
   "source": [
    "#분포도에 중심표시\n",
    "plt.scatter(r['행정동별은행분포'],r['TargetA밀도'],c=r['predict_a3'],alpha=0.5)\n",
    "plt.scatter(center_x,center_y,s=50,marker='D',c='r')"
   ]
  },
  {
   "cell_type": "markdown",
   "metadata": {},
   "source": [
    "## 여기서 centers의 값이랑 위의 우리가 원하는 우선순위가 매칭되게 생각 잘 해주세요"
   ]
  },
  {
   "cell_type": "code",
   "execution_count": 18,
   "metadata": {},
   "outputs": [
    {
     "name": "stdout",
     "output_type": "stream",
     "text": [
      "[[0.93975129 0.18311271]\n",
      " [0.93959448 0.39262192]\n",
      " [0.58055152 0.21353453]]\n"
     ]
    }
   ],
   "source": [
    "centers = kMeans.cluster_centers_\n",
    "print(centers)\n",
    "#predict_a3에 지금 0 1 2 로 들어가 있는 값을 1 2 0으로 바꾸고 싶다.(위의 분포 사진을 보고 파악해야함)\n",
    "# 0 1 2 - > 1 2 0"
   ]
  },
  {
   "cell_type": "code",
   "execution_count": 19,
   "metadata": {},
   "outputs": [],
   "source": [
    "data = pd.merge(df_은행, r, on=[\"행정동별은행분포\", \"TargetA밀도\"])"
   ]
  },
  {
   "cell_type": "code",
   "execution_count": 20,
   "metadata": {
    "scrolled": true
   },
   "outputs": [],
   "source": [
    "data = data[['행정동코드', '구', '동', 'predict_a3']]\n",
    "#data"
   ]
  },
  {
   "cell_type": "markdown",
   "metadata": {},
   "source": [
    "## 위에서 생각한 우리가 원하는 우선순위가 되게 = 이전의 data [ ] 의 숫자를 변경해주세요"
   ]
  },
  {
   "cell_type": "code",
   "execution_count": 21,
   "metadata": {},
   "outputs": [
    {
     "data": {
      "text/html": [
       "<div>\n",
       "<style scoped>\n",
       "    .dataframe tbody tr th:only-of-type {\n",
       "        vertical-align: middle;\n",
       "    }\n",
       "\n",
       "    .dataframe tbody tr th {\n",
       "        vertical-align: top;\n",
       "    }\n",
       "\n",
       "    .dataframe thead th {\n",
       "        text-align: right;\n",
       "    }\n",
       "</style>\n",
       "<table border=\"1\" class=\"dataframe\">\n",
       "  <thead>\n",
       "    <tr style=\"text-align: right;\">\n",
       "      <th></th>\n",
       "      <th>행정동코드</th>\n",
       "      <th>구</th>\n",
       "      <th>동</th>\n",
       "      <th>predict_a3</th>\n",
       "      <th>cluster1</th>\n",
       "      <th>cluster2</th>\n",
       "      <th>cluster0</th>\n",
       "      <th>cluster</th>\n",
       "    </tr>\n",
       "  </thead>\n",
       "  <tbody>\n",
       "    <tr>\n",
       "      <th>0</th>\n",
       "      <td>11110530</td>\n",
       "      <td>종로구</td>\n",
       "      <td>사직동</td>\n",
       "      <td>2</td>\n",
       "      <td>0</td>\n",
       "      <td>0</td>\n",
       "      <td>1</td>\n",
       "      <td>2</td>\n",
       "    </tr>\n",
       "    <tr>\n",
       "      <th>1</th>\n",
       "      <td>11110540</td>\n",
       "      <td>종로구</td>\n",
       "      <td>삼청동</td>\n",
       "      <td>0</td>\n",
       "      <td>1</td>\n",
       "      <td>0</td>\n",
       "      <td>0</td>\n",
       "      <td>1</td>\n",
       "    </tr>\n",
       "    <tr>\n",
       "      <th>2</th>\n",
       "      <td>11110550</td>\n",
       "      <td>종로구</td>\n",
       "      <td>부암동</td>\n",
       "      <td>0</td>\n",
       "      <td>1</td>\n",
       "      <td>0</td>\n",
       "      <td>0</td>\n",
       "      <td>1</td>\n",
       "    </tr>\n",
       "    <tr>\n",
       "      <th>3</th>\n",
       "      <td>11110560</td>\n",
       "      <td>종로구</td>\n",
       "      <td>평창동</td>\n",
       "      <td>0</td>\n",
       "      <td>1</td>\n",
       "      <td>0</td>\n",
       "      <td>0</td>\n",
       "      <td>1</td>\n",
       "    </tr>\n",
       "    <tr>\n",
       "      <th>4</th>\n",
       "      <td>11110570</td>\n",
       "      <td>종로구</td>\n",
       "      <td>무악동</td>\n",
       "      <td>0</td>\n",
       "      <td>1</td>\n",
       "      <td>0</td>\n",
       "      <td>0</td>\n",
       "      <td>1</td>\n",
       "    </tr>\n",
       "    <tr>\n",
       "      <th>...</th>\n",
       "      <td>...</td>\n",
       "      <td>...</td>\n",
       "      <td>...</td>\n",
       "      <td>...</td>\n",
       "      <td>...</td>\n",
       "      <td>...</td>\n",
       "      <td>...</td>\n",
       "      <td>...</td>\n",
       "    </tr>\n",
       "    <tr>\n",
       "      <th>419</th>\n",
       "      <td>11740700</td>\n",
       "      <td>송파구</td>\n",
       "      <td>풍납1동</td>\n",
       "      <td>1</td>\n",
       "      <td>0</td>\n",
       "      <td>1</td>\n",
       "      <td>0</td>\n",
       "      <td>0</td>\n",
       "    </tr>\n",
       "    <tr>\n",
       "      <th>420</th>\n",
       "      <td>11740570</td>\n",
       "      <td>송파구</td>\n",
       "      <td>거여1동</td>\n",
       "      <td>1</td>\n",
       "      <td>0</td>\n",
       "      <td>1</td>\n",
       "      <td>0</td>\n",
       "      <td>0</td>\n",
       "    </tr>\n",
       "    <tr>\n",
       "      <th>421</th>\n",
       "      <td>11740610</td>\n",
       "      <td>강동구</td>\n",
       "      <td>고덕1동</td>\n",
       "      <td>1</td>\n",
       "      <td>0</td>\n",
       "      <td>1</td>\n",
       "      <td>0</td>\n",
       "      <td>0</td>\n",
       "    </tr>\n",
       "    <tr>\n",
       "      <th>422</th>\n",
       "      <td>11740685</td>\n",
       "      <td>강동구</td>\n",
       "      <td>고덕2동</td>\n",
       "      <td>1</td>\n",
       "      <td>0</td>\n",
       "      <td>1</td>\n",
       "      <td>0</td>\n",
       "      <td>0</td>\n",
       "    </tr>\n",
       "    <tr>\n",
       "      <th>423</th>\n",
       "      <td>11740690</td>\n",
       "      <td>강동구</td>\n",
       "      <td>둔촌1동</td>\n",
       "      <td>1</td>\n",
       "      <td>0</td>\n",
       "      <td>1</td>\n",
       "      <td>0</td>\n",
       "      <td>0</td>\n",
       "    </tr>\n",
       "  </tbody>\n",
       "</table>\n",
       "<p>424 rows × 8 columns</p>\n",
       "</div>"
      ],
      "text/plain": [
       "        행정동코드    구     동  predict_a3  cluster1  cluster2  cluster0  cluster\n",
       "0    11110530  종로구   사직동           2         0         0         1        2\n",
       "1    11110540  종로구   삼청동           0         1         0         0        1\n",
       "2    11110550  종로구   부암동           0         1         0         0        1\n",
       "3    11110560  종로구   평창동           0         1         0         0        1\n",
       "4    11110570  종로구   무악동           0         1         0         0        1\n",
       "..        ...  ...   ...         ...       ...       ...       ...      ...\n",
       "419  11740700  송파구  풍납1동           1         0         1         0        0\n",
       "420  11740570  송파구  거여1동           1         0         1         0        0\n",
       "421  11740610  강동구  고덕1동           1         0         1         0        0\n",
       "422  11740685  강동구  고덕2동           1         0         1         0        0\n",
       "423  11740690  강동구  둔촌1동           1         0         1         0        0\n",
       "\n",
       "[424 rows x 8 columns]"
      ]
     },
     "execution_count": 21,
     "metadata": {},
     "output_type": "execute_result"
    }
   ],
   "source": [
    "#data의 [ ] 부분에 지금 현재 a3에 들어있는 값 == [] 이면 1 아니면 0을 넣는 column을 생성해라(3번 시행)\n",
    "data['cluster1'] = (data['predict_a3'] == 0 ).astype(int)\n",
    "data['cluster2'] = (data['predict_a3'] == 1 ).astype(int)\n",
    "data['cluster0'] = (data['predict_a3'] == 2 ).astype(int)\n",
    "\n",
    "#새로 만든 column들을 더해서 우리가 진짜 원하는 순차적인 우선순위를 가진 cluster를 갖게 합산해서 cluster라는 컬럼을 만들자.\n",
    "# 0 1 2를 2점 1점 0점으로 되게\n",
    "\n",
    "data['cluster'] = data['cluster0']*2 + data['cluster1']*1 + data['cluster2'] * 0\n",
    "data"
   ]
  },
  {
   "cell_type": "code",
   "execution_count": 22,
   "metadata": {},
   "outputs": [
    {
     "data": {
      "text/html": [
       "<div>\n",
       "<style scoped>\n",
       "    .dataframe tbody tr th:only-of-type {\n",
       "        vertical-align: middle;\n",
       "    }\n",
       "\n",
       "    .dataframe tbody tr th {\n",
       "        vertical-align: top;\n",
       "    }\n",
       "\n",
       "    .dataframe thead th {\n",
       "        text-align: right;\n",
       "    }\n",
       "</style>\n",
       "<table border=\"1\" class=\"dataframe\">\n",
       "  <thead>\n",
       "    <tr style=\"text-align: right;\">\n",
       "      <th></th>\n",
       "      <th>행정동코드</th>\n",
       "      <th>구</th>\n",
       "      <th>동</th>\n",
       "      <th>cluster</th>\n",
       "    </tr>\n",
       "  </thead>\n",
       "  <tbody>\n",
       "    <tr>\n",
       "      <th>0</th>\n",
       "      <td>11110530</td>\n",
       "      <td>종로구</td>\n",
       "      <td>사직동</td>\n",
       "      <td>2</td>\n",
       "    </tr>\n",
       "    <tr>\n",
       "      <th>1</th>\n",
       "      <td>11110540</td>\n",
       "      <td>종로구</td>\n",
       "      <td>삼청동</td>\n",
       "      <td>1</td>\n",
       "    </tr>\n",
       "    <tr>\n",
       "      <th>2</th>\n",
       "      <td>11110550</td>\n",
       "      <td>종로구</td>\n",
       "      <td>부암동</td>\n",
       "      <td>1</td>\n",
       "    </tr>\n",
       "    <tr>\n",
       "      <th>3</th>\n",
       "      <td>11110560</td>\n",
       "      <td>종로구</td>\n",
       "      <td>평창동</td>\n",
       "      <td>1</td>\n",
       "    </tr>\n",
       "    <tr>\n",
       "      <th>4</th>\n",
       "      <td>11110570</td>\n",
       "      <td>종로구</td>\n",
       "      <td>무악동</td>\n",
       "      <td>1</td>\n",
       "    </tr>\n",
       "    <tr>\n",
       "      <th>...</th>\n",
       "      <td>...</td>\n",
       "      <td>...</td>\n",
       "      <td>...</td>\n",
       "      <td>...</td>\n",
       "    </tr>\n",
       "    <tr>\n",
       "      <th>419</th>\n",
       "      <td>11740700</td>\n",
       "      <td>송파구</td>\n",
       "      <td>풍납1동</td>\n",
       "      <td>0</td>\n",
       "    </tr>\n",
       "    <tr>\n",
       "      <th>420</th>\n",
       "      <td>11740570</td>\n",
       "      <td>송파구</td>\n",
       "      <td>거여1동</td>\n",
       "      <td>0</td>\n",
       "    </tr>\n",
       "    <tr>\n",
       "      <th>421</th>\n",
       "      <td>11740610</td>\n",
       "      <td>강동구</td>\n",
       "      <td>고덕1동</td>\n",
       "      <td>0</td>\n",
       "    </tr>\n",
       "    <tr>\n",
       "      <th>422</th>\n",
       "      <td>11740685</td>\n",
       "      <td>강동구</td>\n",
       "      <td>고덕2동</td>\n",
       "      <td>0</td>\n",
       "    </tr>\n",
       "    <tr>\n",
       "      <th>423</th>\n",
       "      <td>11740690</td>\n",
       "      <td>강동구</td>\n",
       "      <td>둔촌1동</td>\n",
       "      <td>0</td>\n",
       "    </tr>\n",
       "  </tbody>\n",
       "</table>\n",
       "<p>424 rows × 4 columns</p>\n",
       "</div>"
      ],
      "text/plain": [
       "        행정동코드    구     동  cluster\n",
       "0    11110530  종로구   사직동        2\n",
       "1    11110540  종로구   삼청동        1\n",
       "2    11110550  종로구   부암동        1\n",
       "3    11110560  종로구   평창동        1\n",
       "4    11110570  종로구   무악동        1\n",
       "..        ...  ...   ...      ...\n",
       "419  11740700  송파구  풍납1동        0\n",
       "420  11740570  송파구  거여1동        0\n",
       "421  11740610  강동구  고덕1동        0\n",
       "422  11740685  강동구  고덕2동        0\n",
       "423  11740690  강동구  둔촌1동        0\n",
       "\n",
       "[424 rows x 4 columns]"
      ]
     },
     "execution_count": 22,
     "metadata": {},
     "output_type": "execute_result"
    }
   ],
   "source": [
    "data2 = data[['행정동코드', '구', '동', 'cluster']]\n",
    "data2"
   ]
  },
  {
   "cell_type": "markdown",
   "metadata": {},
   "source": [
    "## 시각화"
   ]
  },
  {
   "cell_type": "code",
   "execution_count": 23,
   "metadata": {
    "scrolled": true
   },
   "outputs": [],
   "source": [
    "#지도 코드\n",
    "import pandas as pd\n",
    "import folium\n",
    "\n",
    "max_data = max(data2['cluster']) #이것처럼 생활인구면 max(data['행정동별생활인구합계']), 연금이면 max(data['행정동별연금합계']) 이렇게 지정해주세요.\n",
    "\n",
    "geo_data = 'complete_seoul-dong.geojson' #경로는 geojson 있는데로 바꿔주세요.\n",
    "\n",
    "# 서울시 중심부의 위도, 경도 입니다.\n",
    "center = [37.541, 126.986]\n",
    "\n",
    "# 맵이 center 에 위치하고, zoom 레벨은 11로 시작하는 맵 m을 만듭니다.\n",
    "m = folium.Map(location=center, zoom_start=10, tiles = 'cartodbpositron')\n",
    "\n",
    "# Choropleth 레이어를 만들고, 맵 m에 추가합니다.\n",
    "choropleth = folium.Choropleth(\n",
    "    geo_data=geo_data,\n",
    "    data=data,\n",
    "    columns=('행정동코드', 'cluster'),\n",
    "    key_on='feature.properties.행정동코드',\n",
    "    fill_color='YlGn',\n",
    "    bins=[(-0.000000001)*max_data, 0.3333333*max_data, 0.6666666*max_data, (1.000001)*max_data],\n",
    "    legend_name='서울 행정동별 TargetA와 은행분포 비교', #자기 데이터 제목\n",
    "    highlight = True,\n",
    ").add_to(m)\n",
    "\n",
    "folium.LayerControl().add_to(m)\n",
    "choropleth.geojson.add_child(\n",
    "    folium.features.GeoJsonTooltip(\n",
    "    fields=['동'],\n",
    "    aliases=['위치:'])\n",
    ")\n",
    "\n",
    "m.save('서울 행정동별 TargetA와 은행분포 비교3.html') #저장할 html 이름 지정\n",
    "#소득.html 열어서 확인\n"
   ]
  },
  {
   "cell_type": "markdown",
   "metadata": {},
   "source": [
    "## DT의 target 변수 엑셀로 저장하기"
   ]
  },
  {
   "cell_type": "code",
   "execution_count": 24,
   "metadata": {},
   "outputs": [
    {
     "name": "stderr",
     "output_type": "stream",
     "text": [
      "<ipython-input-24-8f6354dbe445>:3: SettingWithCopyWarning: \n",
      "A value is trying to be set on a copy of a slice from a DataFrame.\n",
      "Try using .loc[row_indexer,col_indexer] = value instead\n",
      "\n",
      "See the caveats in the documentation: https://pandas.pydata.org/pandas-docs/stable/user_guide/indexing.html#returning-a-view-versus-a-copy\n",
      "  df['targeta_3'] = (data2['cluster'] == 2 ).astype(int)\n"
     ]
    },
    {
     "data": {
      "text/html": [
       "<div>\n",
       "<style scoped>\n",
       "    .dataframe tbody tr th:only-of-type {\n",
       "        vertical-align: middle;\n",
       "    }\n",
       "\n",
       "    .dataframe tbody tr th {\n",
       "        vertical-align: top;\n",
       "    }\n",
       "\n",
       "    .dataframe thead th {\n",
       "        text-align: right;\n",
       "    }\n",
       "</style>\n",
       "<table border=\"1\" class=\"dataframe\">\n",
       "  <thead>\n",
       "    <tr style=\"text-align: right;\">\n",
       "      <th></th>\n",
       "      <th>행정동코드</th>\n",
       "      <th>구</th>\n",
       "      <th>동</th>\n",
       "      <th>targeta_3</th>\n",
       "    </tr>\n",
       "  </thead>\n",
       "  <tbody>\n",
       "    <tr>\n",
       "      <th>0</th>\n",
       "      <td>11110530</td>\n",
       "      <td>종로구</td>\n",
       "      <td>사직동</td>\n",
       "      <td>1</td>\n",
       "    </tr>\n",
       "    <tr>\n",
       "      <th>1</th>\n",
       "      <td>11110540</td>\n",
       "      <td>종로구</td>\n",
       "      <td>삼청동</td>\n",
       "      <td>0</td>\n",
       "    </tr>\n",
       "    <tr>\n",
       "      <th>2</th>\n",
       "      <td>11110550</td>\n",
       "      <td>종로구</td>\n",
       "      <td>부암동</td>\n",
       "      <td>0</td>\n",
       "    </tr>\n",
       "    <tr>\n",
       "      <th>3</th>\n",
       "      <td>11110560</td>\n",
       "      <td>종로구</td>\n",
       "      <td>평창동</td>\n",
       "      <td>0</td>\n",
       "    </tr>\n",
       "    <tr>\n",
       "      <th>4</th>\n",
       "      <td>11110570</td>\n",
       "      <td>종로구</td>\n",
       "      <td>무악동</td>\n",
       "      <td>0</td>\n",
       "    </tr>\n",
       "    <tr>\n",
       "      <th>...</th>\n",
       "      <td>...</td>\n",
       "      <td>...</td>\n",
       "      <td>...</td>\n",
       "      <td>...</td>\n",
       "    </tr>\n",
       "    <tr>\n",
       "      <th>419</th>\n",
       "      <td>11740700</td>\n",
       "      <td>송파구</td>\n",
       "      <td>풍납1동</td>\n",
       "      <td>0</td>\n",
       "    </tr>\n",
       "    <tr>\n",
       "      <th>420</th>\n",
       "      <td>11740570</td>\n",
       "      <td>송파구</td>\n",
       "      <td>거여1동</td>\n",
       "      <td>0</td>\n",
       "    </tr>\n",
       "    <tr>\n",
       "      <th>421</th>\n",
       "      <td>11740610</td>\n",
       "      <td>강동구</td>\n",
       "      <td>고덕1동</td>\n",
       "      <td>0</td>\n",
       "    </tr>\n",
       "    <tr>\n",
       "      <th>422</th>\n",
       "      <td>11740685</td>\n",
       "      <td>강동구</td>\n",
       "      <td>고덕2동</td>\n",
       "      <td>0</td>\n",
       "    </tr>\n",
       "    <tr>\n",
       "      <th>423</th>\n",
       "      <td>11740690</td>\n",
       "      <td>강동구</td>\n",
       "      <td>둔촌1동</td>\n",
       "      <td>0</td>\n",
       "    </tr>\n",
       "  </tbody>\n",
       "</table>\n",
       "<p>424 rows × 4 columns</p>\n",
       "</div>"
      ],
      "text/plain": [
       "        행정동코드    구     동  targeta_3\n",
       "0    11110530  종로구   사직동          1\n",
       "1    11110540  종로구   삼청동          0\n",
       "2    11110550  종로구   부암동          0\n",
       "3    11110560  종로구   평창동          0\n",
       "4    11110570  종로구   무악동          0\n",
       "..        ...  ...   ...        ...\n",
       "419  11740700  송파구  풍납1동          0\n",
       "420  11740570  송파구  거여1동          0\n",
       "421  11740610  강동구  고덕1동          0\n",
       "422  11740685  강동구  고덕2동          0\n",
       "423  11740690  강동구  둔촌1동          0\n",
       "\n",
       "[424 rows x 4 columns]"
      ]
     },
     "execution_count": 24,
     "metadata": {},
     "output_type": "execute_result"
    }
   ],
   "source": [
    "# DT에 쓰이는 타겟변수 만드는 코드\n",
    "df = data[['행정동코드', '구', '동']]\n",
    "df['targeta_3'] = (data2['cluster'] == 2 ).astype(int)\n",
    "df"
   ]
  },
  {
   "cell_type": "code",
   "execution_count": 25,
   "metadata": {},
   "outputs": [],
   "source": [
    "df.to_excel(\"target_a3.xlsx\", encoding='utf-8')"
   ]
  },
  {
   "cell_type": "code",
   "execution_count": null,
   "metadata": {},
   "outputs": [],
   "source": []
  },
  {
   "cell_type": "code",
   "execution_count": null,
   "metadata": {},
   "outputs": [],
   "source": []
  },
  {
   "cell_type": "code",
   "execution_count": null,
   "metadata": {},
   "outputs": [],
   "source": []
  },
  {
   "cell_type": "markdown",
   "metadata": {},
   "source": [
    "## Target B"
   ]
  },
  {
   "cell_type": "code",
   "execution_count": 27,
   "metadata": {},
   "outputs": [],
   "source": [
    "X_b = df_은행[[\"행정동별은행분포\",\"TargetB밀도\"]]\n",
    "#X_b"
   ]
  },
  {
   "cell_type": "code",
   "execution_count": 28,
   "metadata": {
    "scrolled": true
   },
   "outputs": [
    {
     "data": {
      "image/png": "[encoded data removed]",
      "text/plain": [
       "<Figure size 432x288 with 1 Axes>"
      ]
     },
     "metadata": {
      "needs_background": "light"
     },
     "output_type": "display_data"
    }
   ],
   "source": [
    "# Inertia value를 이용한 적정 군집수 판단\n",
    "\n",
    "ks = range(1,10) # 1부터 10까지의 군집을 가지고 있을때\n",
    "\n",
    "inertias = []\n",
    "\n",
    "\n",
    "\n",
    "for k in ks:\n",
    "\n",
    "    kMeans = KMeans(n_clusters=k)\n",
    "\n",
    "    kMeans.fit(X_b)\n",
    "\n",
    "    inertias.append(kMeans.inertia_)\n",
    "\n",
    "    \n",
    "\n",
    "# Plot ks vs inertias\n",
    "\n",
    "plt.plot(ks, inertias, '-o')\n",
    "\n",
    "plt.xlabel('Number of clusters, k')\n",
    "\n",
    "plt.ylabel('inertia')\n",
    "\n",
    "plt.xticks(ks)\n",
    "\n",
    "plt.show() \n"
   ]
  },
  {
   "cell_type": "code",
   "execution_count": 29,
   "metadata": {},
   "outputs": [
    {
     "data": {
      "text/plain": [
       "array([2, 1, 1, 0, 1, 1, 1, 2, 0, 1, 1, 1, 1, 1, 1, 1, 2, 2, 2, 1, 1, 2,\n",
       "       1, 1, 1, 1, 1, 1, 1, 1, 1, 1, 1, 1, 1, 1, 1, 1, 1, 1, 0, 1, 2, 1,\n",
       "       0, 0, 0, 0, 1, 1, 0, 1, 1, 1, 1, 1, 1, 1, 1, 1, 1, 1, 1, 1, 1, 0,\n",
       "       1, 1, 1, 1, 1, 1, 0, 1, 1, 1, 1, 1, 1, 1, 0, 1, 1, 1, 0, 1, 0, 1,\n",
       "       1, 1, 1, 0, 1, 1, 0, 1, 1, 0, 1, 0, 1, 0, 1, 0, 0, 1, 0, 0, 0, 0,\n",
       "       1, 1, 0, 1, 1, 1, 1, 1, 1, 1, 1, 0, 1, 0, 0, 0, 0, 0, 0, 0, 0, 0,\n",
       "       0, 0, 1, 1, 1, 1, 1, 1, 1, 1, 1, 1, 1, 1, 1, 1, 1, 1, 1, 1, 1, 1,\n",
       "       0, 1, 0, 0, 0, 0, 0, 0, 1, 1, 1, 1, 0, 0, 0, 1, 1, 1, 0, 1, 0, 0,\n",
       "       0, 0, 1, 0, 1, 0, 0, 1, 2, 0, 0, 1, 0, 0, 0, 0, 0, 0, 0, 0, 0, 0,\n",
       "       1, 1, 1, 0, 1, 1, 0, 0, 1, 0, 1, 1, 0, 1, 0, 1, 0, 1, 0, 1, 0, 0,\n",
       "       0, 0, 0, 0, 1, 1, 0, 1, 0, 1, 1, 1, 1, 2, 1, 0, 0, 0, 0, 0, 0, 0,\n",
       "       1, 0, 0, 1, 2, 1, 1, 1, 0, 0, 1, 1, 0, 2, 0, 0, 0, 1, 1, 1, 0, 1,\n",
       "       1, 1, 1, 2, 1, 1, 1, 1, 1, 0, 1, 0, 0, 1, 1, 1, 1, 1, 1, 1, 1, 0,\n",
       "       1, 0, 1, 1, 1, 1, 1, 1, 1, 1, 1, 1, 1, 1, 1, 2, 2, 2, 0, 0, 1, 1,\n",
       "       0, 0, 1, 1, 0, 1, 1, 0, 2, 0, 0, 2, 2, 2, 0, 0, 0, 2, 0, 0, 2, 0,\n",
       "       1, 0, 0, 1, 1, 0, 2, 2, 2, 0, 0, 0, 0, 0, 1, 0, 0, 1, 0, 0, 0, 0,\n",
       "       0, 0, 0, 0, 0, 0, 0, 0, 0, 0, 0, 0, 0, 0, 1, 0, 0, 0, 1, 1, 1, 1,\n",
       "       0, 0, 0, 1, 1, 1, 0, 1, 1, 1, 1, 1, 0, 1, 0, 0, 1, 0, 0, 0, 1, 1,\n",
       "       1, 0, 0, 1, 0, 0, 0, 1, 0, 1, 1, 1, 1, 1, 1, 1, 1, 1, 1, 0, 0, 0,\n",
       "       1, 1, 1, 0, 0, 0])"
      ]
     },
     "execution_count": 29,
     "metadata": {},
     "output_type": "execute_result"
    }
   ],
   "source": [
    "# 3 에서 5까지 변화의 값이 크지않다. 그러므로 3개에서 5개 사이의 클러스터를 가졌을때 적절하다\n",
    "# k = 3로 설정\n",
    "kMeans = KMeans(n_clusters=3,algorithm='auto')\n",
    "kMeans.fit(X_b)\n",
    "\n",
    "y_kmed = kMeans.fit_predict(X_b)\n",
    "\n",
    "predict_b3 = pd.DataFrame(kMeans.predict(X_b))\n",
    "predict_b3.columns=['predict_b3']\n",
    "\n",
    "y_kmed"
   ]
  },
  {
   "cell_type": "code",
   "execution_count": 30,
   "metadata": {
    "scrolled": false
   },
   "outputs": [
    {
     "data": {
      "text/plain": [
       "3.568611520822621"
      ]
     },
     "execution_count": 30,
     "metadata": {},
     "output_type": "execute_result"
    }
   ],
   "source": [
    "kMeans.inertia_"
   ]
  },
  {
   "cell_type": "code",
   "execution_count": 31,
   "metadata": {},
   "outputs": [
    {
     "name": "stdout",
     "output_type": "stream",
     "text": [
      "0.41106147424239425\n"
     ]
    }
   ],
   "source": [
    "from sklearn.metrics import silhouette_samples, silhouette_score\n",
    "\n",
    "silhouette_avg = silhouette_score(X_b, y_kmed)\n",
    "print(silhouette_avg)"
   ]
  },
  {
   "cell_type": "code",
   "execution_count": 32,
   "metadata": {
    "scrolled": true
   },
   "outputs": [
    {
     "name": "stdout",
     "output_type": "stream",
     "text": [
      "0.32550891670587967\n",
      "0.48619313527759783\n",
      "0.30374218097915934\n"
     ]
    }
   ],
   "source": [
    "sample_silhouette_values = silhouette_samples(X_b, y_kmed)\n",
    "for i in range(3):\n",
    "    ith_cluster_silhouette_values = sample_silhouette_values[y_kmed == i]\n",
    "    print(np.mean(ith_cluster_silhouette_values))"
   ]
  },
  {
   "cell_type": "code",
   "execution_count": null,
   "metadata": {},
   "outputs": [],
   "source": []
  },
  {
   "cell_type": "code",
   "execution_count": 33,
   "metadata": {
    "scrolled": true
   },
   "outputs": [],
   "source": [
    "r = pd.concat([X_b,predict_b3],axis=1)\n",
    "#r"
   ]
  },
  {
   "cell_type": "code",
   "execution_count": 34,
   "metadata": {},
   "outputs": [
    {
     "data": {
      "text/plain": [
       "<matplotlib.collections.PathCollection at 0xb28bbcd278>"
      ]
     },
     "execution_count": 34,
     "metadata": {},
     "output_type": "execute_result"
    },
    {
     "data": {
      "image/png": "[encoded data removed]",
      "text/plain": [
       "<Figure size 432x288 with 1 Axes>"
      ]
     },
     "metadata": {
      "needs_background": "light"
     },
     "output_type": "display_data"
    }
   ],
   "source": [
    "#분포도 시각화\n",
    "plt.scatter(r['행정동별은행분포'],r['TargetB밀도'],c=r['predict_b3'],alpha=0.5)\n"
   ]
  },
  {
   "cell_type": "code",
   "execution_count": 35,
   "metadata": {},
   "outputs": [
    {
     "data": {
      "text/plain": [
       "<matplotlib.collections.PathCollection at 0xb28bc28908>"
      ]
     },
     "execution_count": 35,
     "metadata": {},
     "output_type": "execute_result"
    },
    {
     "data": {
      "image/png": "[encoded data removed]",
      "text/plain": [
       "<Figure size 432x288 with 1 Axes>"
      ]
     },
     "metadata": {
      "needs_background": "light"
     },
     "output_type": "display_data"
    }
   ],
   "source": [
    "#중심표시\n",
    "centers = pd.DataFrame(kMeans.cluster_centers_,columns=['행정동별은행분포','TargetB밀도'])\n",
    "center_x = centers['행정동별은행분포']\n",
    "center_y = centers['TargetB밀도']\n",
    "plt.scatter(center_x,center_y,s=50,marker='D',c='r')"
   ]
  },
  {
   "cell_type": "code",
   "execution_count": 36,
   "metadata": {},
   "outputs": [
    {
     "data": {
      "text/plain": [
       "<matplotlib.collections.PathCollection at 0xb28bc95ef0>"
      ]
     },
     "execution_count": 36,
     "metadata": {},
     "output_type": "execute_result"
    },
    {
     "data": {
      "image/png": "[encoded data removed]",
      "text/plain": [
       "<Figure size 432x288 with 1 Axes>"
      ]
     },
     "metadata": {
      "needs_background": "light"
     },
     "output_type": "display_data"
    }
   ],
   "source": [
    "#분포도에 중심표시\n",
    "plt.scatter(r['행정동별은행분포'],r['TargetB밀도'],c=r['predict_b3'],alpha=0.5)\n",
    "plt.scatter(center_x,center_y,s=50,marker='D',c='r')"
   ]
  },
  {
   "cell_type": "markdown",
   "metadata": {},
   "source": [
    "## 여기서 centers의 값이랑 위의 우리가 원하는 우선순위가 매칭되게 생각 잘 해주세요"
   ]
  },
  {
   "cell_type": "code",
   "execution_count": 37,
   "metadata": {},
   "outputs": [
    {
     "name": "stdout",
     "output_type": "stream",
     "text": [
      "[[0.93037626 0.34992067]\n",
      " [0.94496169 0.19825969]\n",
      " [0.5668239  0.25608114]]\n"
     ]
    }
   ],
   "source": [
    "centers = kMeans.cluster_centers_\n",
    "print(centers)"
   ]
  },
  {
   "cell_type": "code",
   "execution_count": 38,
   "metadata": {},
   "outputs": [],
   "source": [
    "data = pd.merge(df_은행, r, on=[\"행정동별은행분포\", \"TargetB밀도\"])"
   ]
  },
  {
   "cell_type": "code",
   "execution_count": 39,
   "metadata": {
    "scrolled": true
   },
   "outputs": [],
   "source": [
    "data = data[['행정동코드', '구', '동', 'predict_b3']]\n",
    "#data"
   ]
  },
  {
   "cell_type": "markdown",
   "metadata": {},
   "source": [
    "## 위에서 생각한 우리가 원하는 우선순위가 되게 = 이전의 data [ ] 의 숫자를 변경해주세요"
   ]
  },
  {
   "cell_type": "code",
   "execution_count": null,
   "metadata": {},
   "outputs": [],
   "source": [
    "#data의 [ ] 부분에 지금 현재 a3에 들어있는 값 == [] 이면 1 아니면 0을 넣는 column을 생성해라(3번 시행)\n",
    "data['cluster1'] = (data['predict_b3'] == 0 ).astype(int)\n",
    "data['cluster2'] = (data['predict_b3'] == 1 ).astype(int)\n",
    "data['cluster0'] = (data['predict_b3'] == 2 ).astype(int)\n",
    "\n",
    "#새로 만든 column들을 더해서 우리가 진짜 원하는 순차적인 우선순위를 가진 cluster를 갖게 합산해서 cluster라는 컬럼을 만들자.\n",
    "# 0 1 2를 2점 1점 0점으로 되게\n",
    "\n",
    "data['cluster'] = data['cluster0']*2 + data['cluster1']*1 + data['cluster2'] * 0\n",
    "data"
   ]
  },
  {
   "cell_type": "code",
   "execution_count": null,
   "metadata": {},
   "outputs": [],
   "source": [
    "data2 = data[['행정동코드', '구', '동', 'cluster']]\n",
    "data2"
   ]
  },
  {
   "cell_type": "markdown",
   "metadata": {},
   "source": [
    "## 시각화"
   ]
  },
  {
   "cell_type": "code",
   "execution_count": 45,
   "metadata": {},
   "outputs": [],
   "source": [
    "#지도 코드\n",
    "import pandas as pd\n",
    "import folium\n",
    "\n",
    "max_data = max(data2['cluster']) #이것처럼 생활인구면 max(data['행정동별생활인구합계']), 연금이면 max(data['행정동별연금합계']) 이렇게 지정해주세요.\n",
    "\n",
    "geo_data = 'complete_seoul-dong.geojson' #경로는 geojson 있는데로 바꿔주세요.\n",
    "\n",
    "# 서울시 중심부의 위도, 경도 입니다.\n",
    "center = [37.541, 126.986]\n",
    "\n",
    "# 맵이 center 에 위치하고, zoom 레벨은 11로 시작하는 맵 m을 만듭니다.\n",
    "m = folium.Map(location=center, zoom_start=10, tiles = 'cartodbpositron')\n",
    "\n",
    "# Choropleth 레이어를 만들고, 맵 m에 추가합니다.\n",
    "choropleth = folium.Choropleth(\n",
    "    geo_data=geo_data,\n",
    "    data=data,\n",
    "    columns=('행정동코드', 'cluster'),\n",
    "    key_on='feature.properties.행정동코드',\n",
    "    fill_color='YlGn',\n",
    "    bins=[(-0.000000001)*max_data, 0.3333333*max_data, 0.6666666*max_data, (1.000001)*max_data],\n",
    "    legend_name='서울 행정동별 TargetB와 은행분포 비교', #자기 데이터 제목\n",
    "    highlight = True,\n",
    ").add_to(m)\n",
    "\n",
    "folium.LayerControl().add_to(m)\n",
    "choropleth.geojson.add_child(\n",
    "    folium.features.GeoJsonTooltip(\n",
    "    fields=['동'],\n",
    "    aliases=['위치:'])\n",
    ")\n",
    "\n",
    "m.save('서울 행정동별 TargetB와 은행분포 비교3.html') #저장할 html 이름 지정\n",
    "#소득.html 열어서 확인\n"
   ]
  },
  {
   "cell_type": "markdown",
   "metadata": {},
   "source": [
    "## DT의 target 변수 엑셀로 저장하기"
   ]
  },
  {
   "cell_type": "code",
   "execution_count": null,
   "metadata": {},
   "outputs": [],
   "source": [
    "# DT에 쓰이는 타겟변수 만드는 코드\n",
    "df = data[['행정동코드', '구', '동']]\n",
    "df['targetb_3'] = (data2['cluster'] == 2 ).astype(int)\n",
    "df"
   ]
  },
  {
   "cell_type": "code",
   "execution_count": null,
   "metadata": {},
   "outputs": [],
   "source": [
    "df.to_excel(\"target_b3.xlsx\", encoding='utf-8')"
   ]
  }
 ],
 "metadata": {
  "kernelspec": {
   "display_name": "Python 3",
   "language": "python",
   "name": "python3"
  },
  "language_info": {
   "codemirror_mode": {
    "name": "ipython",
    "version": 3
   },
   "file_extension": ".py",
   "mimetype": "text/x-python",
   "name": "python",
   "nbconvert_exporter": "python",
   "pygments_lexer": "ipython3",
   "version": "3.8.3"
  }
 },
 "nbformat": 4,
 "nbformat_minor": 4
}
