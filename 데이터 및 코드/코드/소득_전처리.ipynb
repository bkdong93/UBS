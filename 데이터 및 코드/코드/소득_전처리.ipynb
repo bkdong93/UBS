{
 "cells": [
  {
   "cell_type": "code",
   "execution_count": 1,
   "metadata": {},
   "outputs": [
    {
     "name": "stderr",
     "output_type": "stream",
     "text": [
      "C:\\ProgramData\\Anaconda3\\lib\\site-packages\\ipykernel_launcher.py:3: ParserWarning: Falling back to the 'python' engine because the 'c' engine does not support regex separators (separators > 1 char and different from '\\s+' are interpreted as regex); you can avoid this warning by specifying engine='python'.\n",
      "  This is separate from the ipykernel package so we can avoid doing imports until\n"
     ]
    }
   ],
   "source": [
    "import pandas as pd\n",
    "import numpy as np\n",
    "df = pd.read_csv(\"TN_IC_ECM_CRD_STAT_H_DONG.txt\", sep = \"\\|\", header = 0)\n",
    "#df"
   ]
  },
  {
   "cell_type": "code",
   "execution_count": 2,
   "metadata": {},
   "outputs": [],
   "source": [
    "data = df[['`bs_yr_mon`', '`hang_cd`', '`stat_h_dong_027`', '`stat_h_dong_028`' ]]"
   ]
  },
  {
   "cell_type": "code",
   "execution_count": 3,
   "metadata": {},
   "outputs": [],
   "source": [
    "data.columns = ['데이터 기준월', '행정동코드', '60대', '70대 이상']"
   ]
  },
  {
   "cell_type": "code",
   "execution_count": 4,
   "metadata": {},
   "outputs": [
    {
     "name": "stdout",
     "output_type": "stream",
     "text": [
      "데이터 기준월    object\n",
      "행정동코드      object\n",
      "60대        object\n",
      "70대 이상     object\n",
      "dtype: object\n"
     ]
    }
   ],
   "source": [
    "print(data.dtypes)"
   ]
  },
  {
   "cell_type": "code",
   "execution_count": 5,
   "metadata": {},
   "outputs": [],
   "source": [
    "data = data.replace(to_replace ='\\`', value = '', regex = True)  #결측치 -에서 0으로 바꾸기(문자면 오류)"
   ]
  },
  {
   "cell_type": "code",
   "execution_count": 6,
   "metadata": {},
   "outputs": [
    {
     "name": "stdout",
     "output_type": "stream",
     "text": [
      "데이터 기준월    object\n",
      "행정동코드      object\n",
      "60대        object\n",
      "70대 이상     object\n",
      "dtype: object\n"
     ]
    }
   ],
   "source": [
    "#data type 변경\n",
    "data.astype({'데이터 기준월' : 'int'})\n",
    "data.astype({'행정동코드' : 'int'})\n",
    "data.astype({'60대' : 'float'})\n",
    "data.astype( {'70대 이상' : 'float'})\n",
    "print(data.dtypes)"
   ]
  },
  {
   "cell_type": "code",
   "execution_count": 7,
   "metadata": {},
   "outputs": [
    {
     "name": "stdout",
     "output_type": "stream",
     "text": [
      "데이터 기준월      int64\n",
      "행정동코드        int64\n",
      "60대        float64\n",
      "70대 이상     float64\n",
      "dtype: object\n"
     ]
    }
   ],
   "source": [
    "#data type to_numeric\n",
    "data['데이터 기준월'] = pd.to_numeric(data['데이터 기준월'])\n",
    "data['행정동코드'] = pd.to_numeric(data['행정동코드'])\n",
    "data['60대'] = pd.to_numeric(data['60대'])\n",
    "data['70대 이상'] = pd.to_numeric(data['70대 이상'])\n",
    "print(data.dtypes)"
   ]
  },
  {
   "cell_type": "code",
   "execution_count": 8,
   "metadata": {},
   "outputs": [],
   "source": [
    "#두 컬럼 합산\n",
    "data['60대이상소득'] = (data['60대'] + data['70대 이상'])"
   ]
  },
  {
   "cell_type": "code",
   "execution_count": 9,
   "metadata": {},
   "outputs": [],
   "source": [
    "#2018년 3개월 제외 -> 2019년 것으로만 정제\n",
    "data = data[data['데이터 기준월'] >= 201901]"
   ]
  },
  {
   "cell_type": "code",
   "execution_count": 10,
   "metadata": {},
   "outputs": [],
   "source": [
    "#미관측된 둔촌 1동의 행정동코드 추가\n",
    "new_row = {'행정동코드' : 1125070, '데이터 기준월' : 201906.5, '60대' : 0, '70대 이상' : 0, '60대이상소득' :0  }\n",
    "data = data.append( new_row, ignore_index = True )"
   ]
  },
  {
   "cell_type": "code",
   "execution_count": 11,
   "metadata": {},
   "outputs": [],
   "source": [
    "data_m = data.groupby('행정동코드').mean()\n",
    "#new_row = {'행정동코드' : 1125070, '데이터 기준월' : 201906.5, '60대' : 0, '70대 이상' : 0, '60대이상소득' :0  }\n",
    "#data_m = data_m.append( new_row, ignore_index = True )\n",
    "#['저소득노인합계'].loc[(df['동'] == '둔촌1동')] = 33 #결측된 둔촌 1동을 둔촌2동 데이터로 보정"
   ]
  },
  {
   "cell_type": "code",
   "execution_count": 12,
   "metadata": {},
   "outputs": [],
   "source": [
    "df = pd.read_excel(\"7자리_행정동.xlsx\", thousands = ',') #엑셀로 저장한거 1000단위의 , 제거하고 불러오기"
   ]
  },
  {
   "cell_type": "code",
   "execution_count": 13,
   "metadata": {},
   "outputs": [],
   "source": [
    "del df['Unnamed: 0'] # Unnamed 0 생긴거 index에서 저장할때 생긴거 같은데 불필요하므로 제거"
   ]
  },
  {
   "cell_type": "code",
   "execution_count": 14,
   "metadata": {},
   "outputs": [],
   "source": [
    "df.columns = ['구', '동', '행정동코드']"
   ]
  },
  {
   "cell_type": "code",
   "execution_count": null,
   "metadata": {},
   "outputs": [],
   "source": []
  },
  {
   "cell_type": "code",
   "execution_count": 15,
   "metadata": {},
   "outputs": [],
   "source": [
    "data_a= pd.merge(data_m, df, on=\"행정동코드\", how='right')"
   ]
  },
  {
   "cell_type": "code",
   "execution_count": 16,
   "metadata": {
    "scrolled": true
   },
   "outputs": [],
   "source": [
    "#data_a"
   ]
  },
  {
   "cell_type": "code",
   "execution_count": 17,
   "metadata": {},
   "outputs": [
    {
     "name": "stderr",
     "output_type": "stream",
     "text": [
      "C:\\ProgramData\\Anaconda3\\lib\\site-packages\\pandas\\core\\indexing.py:190: SettingWithCopyWarning: \n",
      "A value is trying to be set on a copy of a slice from a DataFrame\n",
      "\n",
      "See the caveats in the documentation: http://pandas.pydata.org/pandas-docs/stable/indexing.html#indexing-view-versus-copy\n",
      "  self._setitem_with_indexer(indexer, value)\n"
     ]
    }
   ],
   "source": [
    "data_a['60대이상소득'].loc[(data_a['행정동코드'] == 1125070.0)] = 642.725000 #결측된 둔촌 1동을 둔촌2동 데이터로 보정\n",
    "#data_a['60대이상소득'].loc[(data_a['행정동코드'] == 1125070.0)] = 642.5000 #결측된 둔촌 1동을 둔촌2동 데이터로 보정"
   ]
  },
  {
   "cell_type": "code",
   "execution_count": 18,
   "metadata": {},
   "outputs": [],
   "source": [
    "#data_a"
   ]
  },
  {
   "cell_type": "code",
   "execution_count": 19,
   "metadata": {},
   "outputs": [],
   "source": [
    "#column 추출\n",
    "data_f = data_a[['구', '동', '60대이상소득']]"
   ]
  },
  {
   "cell_type": "code",
   "execution_count": 20,
   "metadata": {},
   "outputs": [],
   "source": [
    "#rename\n",
    "data_f.columns = [['구', '동', '행정동별평균소득']]"
   ]
  },
  {
   "cell_type": "code",
   "execution_count": 21,
   "metadata": {
    "scrolled": true
   },
   "outputs": [],
   "source": [
    "#data_f"
   ]
  },
  {
   "cell_type": "code",
   "execution_count": 22,
   "metadata": {},
   "outputs": [],
   "source": [
    "#행정동코드 merge를 위한 xlsx 파일 로드\n",
    "data = pd.read_excel(\"geojson_행정동코드.xlsx\")"
   ]
  },
  {
   "cell_type": "code",
   "execution_count": 23,
   "metadata": {
    "scrolled": true
   },
   "outputs": [],
   "source": [
    "#data"
   ]
  },
  {
   "cell_type": "code",
   "execution_count": 24,
   "metadata": {},
   "outputs": [],
   "source": [
    "del data['시']\n",
    "#data"
   ]
  },
  {
   "cell_type": "code",
   "execution_count": 25,
   "metadata": {},
   "outputs": [],
   "source": [
    "#data join\n",
    "join_data_f= data_f.join(data, how = 'left')"
   ]
  },
  {
   "cell_type": "code",
   "execution_count": 26,
   "metadata": {},
   "outputs": [],
   "source": [
    "#column rename\n",
    "join_data_f.columns = [['구2', '동2', '행정동별평균소득', '구', '동', '행정동코드']]"
   ]
  },
  {
   "cell_type": "code",
   "execution_count": 27,
   "metadata": {},
   "outputs": [],
   "source": [
    "#불필요한 column 제거\n",
    "del join_data_f[\"구2\"]\n",
    "del join_data_f[\"동2\"]\n",
    "#join_data_f"
   ]
  },
  {
   "cell_type": "code",
   "execution_count": 28,
   "metadata": {},
   "outputs": [
    {
     "data": {
      "text/plain": [
       "MultiIndex(levels=[['구', '구2', '동', '동2', '행정동별평균소득', '행정동코드']],\n",
       "           codes=[[4, 0, 2, 5]])"
      ]
     },
     "execution_count": 28,
     "metadata": {},
     "output_type": "execute_result"
    }
   ],
   "source": [
    "join_data_f.columns"
   ]
  },
  {
   "cell_type": "code",
   "execution_count": 29,
   "metadata": {},
   "outputs": [],
   "source": [
    "#column rename\n",
    "join_data_f = join_data_f[['행정동코드', '구', '동', '행정동별평균소득']]"
   ]
  },
  {
   "cell_type": "code",
   "execution_count": 30,
   "metadata": {},
   "outputs": [],
   "source": [
    "#join_data_f.sort_values(by = [ '행정동별평균소득' , '행정동코드'], ascending = False).head(10)"
   ]
  },
  {
   "cell_type": "code",
   "execution_count": 31,
   "metadata": {},
   "outputs": [],
   "source": [
    "#to_excel\n",
    "join_data_f.to_excel('소득.xlsx', encoding = 'utf-8')"
   ]
  },
  {
   "cell_type": "code",
   "execution_count": 32,
   "metadata": {},
   "outputs": [],
   "source": [
    "import sklearn\n",
    "sklearn.__version__\n",
    "\n",
    "import pandas as pd\n",
    "import numpy as np\n",
    "import folium\n",
    "\n",
    "from sklearn.preprocessing import MinMaxScaler"
   ]
  },
  {
   "cell_type": "code",
   "execution_count": 33,
   "metadata": {
    "scrolled": true
   },
   "outputs": [],
   "source": [
    "import pandas as pd\n",
    "import numpy as np\n",
    "df = pd.read_excel(\"소득.xlsx\", thousands = ',', ) #엑셀로 저장한거 1000단위의 , 제거하고 불러오기\n",
    "#df\n"
   ]
  },
  {
   "cell_type": "code",
   "execution_count": 34,
   "metadata": {},
   "outputs": [],
   "source": [
    "del df['Unnamed: 0'] # Unnamed 0 생긴거 index에서 저장할때 생긴거 같은데 불필요하므로 제거"
   ]
  },
  {
   "cell_type": "code",
   "execution_count": 35,
   "metadata": {},
   "outputs": [],
   "source": [
    "df = df.drop(0,0)"
   ]
  },
  {
   "cell_type": "code",
   "execution_count": 36,
   "metadata": {},
   "outputs": [],
   "source": [
    "#df"
   ]
  },
  {
   "cell_type": "code",
   "execution_count": 37,
   "metadata": {},
   "outputs": [],
   "source": [
    "scaler= MinMaxScaler()\n",
    "\n",
    "df[[\"행정동별평균소득\"]]= scaler.fit_transform(df[[\"행정동별평균소득\"]])\n",
    "\n",
    "#df"
   ]
  },
  {
   "cell_type": "code",
   "execution_count": 38,
   "metadata": {},
   "outputs": [],
   "source": [
    "low = df.sort_values(by = ['행정동별평균소득', '행정동코드'], ascending = True).head(10)\n",
    "#abc"
   ]
  },
  {
   "cell_type": "code",
   "execution_count": 39,
   "metadata": {},
   "outputs": [],
   "source": [
    "high = df.sort_values(by = ['행정동별평균소득', '행정동코드'], ascending = False).head(10)\n",
    "#haha"
   ]
  },
  {
   "cell_type": "code",
   "execution_count": 40,
   "metadata": {},
   "outputs": [
    {
     "data": {
      "text/html": [
       "<div>\n",
       "<style scoped>\n",
       "    .dataframe tbody tr th:only-of-type {\n",
       "        vertical-align: middle;\n",
       "    }\n",
       "\n",
       "    .dataframe tbody tr th {\n",
       "        vertical-align: top;\n",
       "    }\n",
       "\n",
       "    .dataframe thead th {\n",
       "        text-align: right;\n",
       "    }\n",
       "</style>\n",
       "<table border=\"1\" class=\"dataframe\">\n",
       "  <thead>\n",
       "    <tr style=\"text-align: right;\">\n",
       "      <th></th>\n",
       "      <th>행정동코드</th>\n",
       "      <th>구</th>\n",
       "      <th>동</th>\n",
       "    </tr>\n",
       "  </thead>\n",
       "  <tbody>\n",
       "    <tr>\n",
       "      <th>199</th>\n",
       "      <td>11410690.0</td>\n",
       "      <td>서대문구</td>\n",
       "      <td>남가좌1동</td>\n",
       "    </tr>\n",
       "    <tr>\n",
       "      <th>6</th>\n",
       "      <td>11110580.0</td>\n",
       "      <td>종로구</td>\n",
       "      <td>교남동</td>\n",
       "    </tr>\n",
       "    <tr>\n",
       "      <th>14</th>\n",
       "      <td>11110700.0</td>\n",
       "      <td>종로구</td>\n",
       "      <td>숭인1동</td>\n",
       "    </tr>\n",
       "    <tr>\n",
       "      <th>232</th>\n",
       "      <td>11470610.0</td>\n",
       "      <td>양천구</td>\n",
       "      <td>신월6동</td>\n",
       "    </tr>\n",
       "    <tr>\n",
       "      <th>11</th>\n",
       "      <td>11110670.0</td>\n",
       "      <td>종로구</td>\n",
       "      <td>창신1동</td>\n",
       "    </tr>\n",
       "    <tr>\n",
       "      <th>24</th>\n",
       "      <td>11140605.0</td>\n",
       "      <td>중구</td>\n",
       "      <td>을지로동</td>\n",
       "    </tr>\n",
       "    <tr>\n",
       "      <th>13</th>\n",
       "      <td>11110690.0</td>\n",
       "      <td>종로구</td>\n",
       "      <td>창신3동</td>\n",
       "    </tr>\n",
       "    <tr>\n",
       "      <th>406</th>\n",
       "      <td>11710647.0</td>\n",
       "      <td>송파구</td>\n",
       "      <td>위례동</td>\n",
       "    </tr>\n",
       "    <tr>\n",
       "      <th>283</th>\n",
       "      <td>11545690.0</td>\n",
       "      <td>금천구</td>\n",
       "      <td>시흥3동</td>\n",
       "    </tr>\n",
       "    <tr>\n",
       "      <th>165</th>\n",
       "      <td>11350621.0</td>\n",
       "      <td>노원구</td>\n",
       "      <td>중계1동</td>\n",
       "    </tr>\n",
       "  </tbody>\n",
       "</table>\n",
       "</div>"
      ],
      "text/plain": [
       "          행정동코드     구      동\n",
       "199  11410690.0  서대문구  남가좌1동\n",
       "6    11110580.0   종로구    교남동\n",
       "14   11110700.0   종로구   숭인1동\n",
       "232  11470610.0   양천구   신월6동\n",
       "11   11110670.0   종로구   창신1동\n",
       "24   11140605.0    중구   을지로동\n",
       "13   11110690.0   종로구   창신3동\n",
       "406  11710647.0   송파구    위례동\n",
       "283  11545690.0   금천구   시흥3동\n",
       "165  11350621.0   노원구   중계1동"
      ]
     },
     "execution_count": 40,
     "metadata": {},
     "output_type": "execute_result"
    }
   ],
   "source": [
    "#동별 평균소득 하위 10개\n",
    "low = low[['행정동코드', '구', '동']]\n",
    "low"
   ]
  },
  {
   "cell_type": "code",
   "execution_count": 41,
   "metadata": {},
   "outputs": [
    {
     "data": {
      "text/html": [
       "<div>\n",
       "<style scoped>\n",
       "    .dataframe tbody tr th:only-of-type {\n",
       "        vertical-align: middle;\n",
       "    }\n",
       "\n",
       "    .dataframe tbody tr th {\n",
       "        vertical-align: top;\n",
       "    }\n",
       "\n",
       "    .dataframe thead th {\n",
       "        text-align: right;\n",
       "    }\n",
       "</style>\n",
       "<table border=\"1\" class=\"dataframe\">\n",
       "  <thead>\n",
       "    <tr style=\"text-align: right;\">\n",
       "      <th></th>\n",
       "      <th>행정동코드</th>\n",
       "      <th>구</th>\n",
       "      <th>동</th>\n",
       "    </tr>\n",
       "  </thead>\n",
       "  <tbody>\n",
       "    <tr>\n",
       "      <th>365</th>\n",
       "      <td>11680640.0</td>\n",
       "      <td>강남구</td>\n",
       "      <td>역삼1동</td>\n",
       "    </tr>\n",
       "    <tr>\n",
       "      <th>330</th>\n",
       "      <td>11620695.0</td>\n",
       "      <td>관악구</td>\n",
       "      <td>신림동</td>\n",
       "    </tr>\n",
       "    <tr>\n",
       "      <th>336</th>\n",
       "      <td>11620595.0</td>\n",
       "      <td>관악구</td>\n",
       "      <td>청룡동</td>\n",
       "    </tr>\n",
       "    <tr>\n",
       "      <th>66</th>\n",
       "      <td>11215710.0</td>\n",
       "      <td>광진구</td>\n",
       "      <td>화양동</td>\n",
       "    </tr>\n",
       "    <tr>\n",
       "      <th>206</th>\n",
       "      <td>11410615.0</td>\n",
       "      <td>서대문구</td>\n",
       "      <td>연희동</td>\n",
       "    </tr>\n",
       "    <tr>\n",
       "      <th>359</th>\n",
       "      <td>11680521.0</td>\n",
       "      <td>강남구</td>\n",
       "      <td>논현1동</td>\n",
       "    </tr>\n",
       "    <tr>\n",
       "      <th>211</th>\n",
       "      <td>11440660.0</td>\n",
       "      <td>마포구</td>\n",
       "      <td>서교동</td>\n",
       "    </tr>\n",
       "    <tr>\n",
       "      <th>259</th>\n",
       "      <td>11500540.0</td>\n",
       "      <td>강서구</td>\n",
       "      <td>화곡1동</td>\n",
       "    </tr>\n",
       "    <tr>\n",
       "      <th>321</th>\n",
       "      <td>11620575.0</td>\n",
       "      <td>관악구</td>\n",
       "      <td>행운동</td>\n",
       "    </tr>\n",
       "    <tr>\n",
       "      <th>305</th>\n",
       "      <td>11590530.0</td>\n",
       "      <td>동작구</td>\n",
       "      <td>상도1동</td>\n",
       "    </tr>\n",
       "  </tbody>\n",
       "</table>\n",
       "</div>"
      ],
      "text/plain": [
       "          행정동코드     구     동\n",
       "365  11680640.0   강남구  역삼1동\n",
       "330  11620695.0   관악구   신림동\n",
       "336  11620595.0   관악구   청룡동\n",
       "66   11215710.0   광진구   화양동\n",
       "206  11410615.0  서대문구   연희동\n",
       "359  11680521.0   강남구  논현1동\n",
       "211  11440660.0   마포구   서교동\n",
       "259  11500540.0   강서구  화곡1동\n",
       "321  11620575.0   관악구   행운동\n",
       "305  11590530.0   동작구  상도1동"
      ]
     },
     "execution_count": 41,
     "metadata": {},
     "output_type": "execute_result"
    }
   ],
   "source": [
    "#동별 평균소득 상위 10개\n",
    "high = high[['행정동코드', '구', '동']]\n",
    "high"
   ]
  },
  {
   "cell_type": "code",
   "execution_count": 42,
   "metadata": {},
   "outputs": [],
   "source": [
    "df.to_excel('소득_정규화.xlsx', encoding = 'utf-8')"
   ]
  },
  {
   "cell_type": "code",
   "execution_count": null,
   "metadata": {},
   "outputs": [],
   "source": []
  }
 ],
 "metadata": {
  "kernelspec": {
   "display_name": "Python 3",
   "language": "python",
   "name": "python3"
  },
  "language_info": {
   "codemirror_mode": {
    "name": "ipython",
    "version": 3
   },
   "file_extension": ".py",
   "mimetype": "text/x-python",
   "name": "python",
   "nbconvert_exporter": "python",
   "pygments_lexer": "ipython3",
   "version": "3.8.3"
  }
 },
 "nbformat": 4,
 "nbformat_minor": 4
}
