{
 "cells": [
  {
   "cell_type": "code",
   "execution_count": 1,
   "metadata": {},
   "outputs": [],
   "source": [
    "import sklearn\n",
    "sklearn.__version__\n",
    "\n",
    "import pandas as pd\n",
    "import numpy as np\n",
    "import folium\n",
    "\n",
    "from sklearn.preprocessing import MinMaxScaler"
   ]
  },
  {
   "cell_type": "code",
   "execution_count": 2,
   "metadata": {},
   "outputs": [],
   "source": [
    "import pandas as pd\n",
    "import numpy as np\n",
    "#전처리한 데이터 로드\n",
    "df = pd.read_excel(\"기초생활보장수급자.xlsx\", thousands = ',') #엑셀로 저장한거 1000단위의 , 제거하고 불러오기"
   ]
  },
  {
   "cell_type": "code",
   "execution_count": 3,
   "metadata": {},
   "outputs": [
    {
     "data": {
      "text/plain": [
       "Index(['Unnamed: 0', '행정동코드', '구', '동', '행정동별기초생활보장수급자합계'], dtype='object')"
      ]
     },
     "execution_count": 3,
     "metadata": {},
     "output_type": "execute_result"
    }
   ],
   "source": [
    "df.columns"
   ]
  },
  {
   "cell_type": "code",
   "execution_count": 4,
   "metadata": {},
   "outputs": [],
   "source": [
    "#불필요한 index 제거\n",
    "del df['Unnamed: 0'] # Unnamed 0 생긴거 index에서 저장할때 생긴거 같은데 불필요하므로 제거"
   ]
  },
  {
   "cell_type": "code",
   "execution_count": 5,
   "metadata": {},
   "outputs": [],
   "source": [
    "#min-max scaler를 통해 행정동별독거노인합계를 정규화\n",
    "scaler= MinMaxScaler()\n",
    "\n",
    "df[[\"행정동별기초생활보장수급자합계\"]]= scaler.fit_transform(df[[\"행정동별기초생활보장수급자합계\"]])"
   ]
  },
  {
   "cell_type": "code",
   "execution_count": 6,
   "metadata": {},
   "outputs": [],
   "source": [
    "df.to_excel('기초생활보장수급자_정규화.xlsx', encoding = 'utf-8')"
   ]
  },
  {
   "cell_type": "code",
   "execution_count": 7,
   "metadata": {},
   "outputs": [],
   "source": [
    "low = df.sort_values(by = ['행정동별기초생활보장수급자합계', '행정동코드'], ascending = True).head(10)\n",
    "#low"
   ]
  },
  {
   "cell_type": "code",
   "execution_count": 8,
   "metadata": {},
   "outputs": [],
   "source": [
    "high = df.sort_values(by = ['행정동별기초생활보장수급자합계', '행정동코드'], ascending = False).head(10)\n",
    "#high"
   ]
  },
  {
   "cell_type": "code",
   "execution_count": 9,
   "metadata": {},
   "outputs": [
    {
     "data": {
      "text/html": [
       "<div>\n",
       "<style scoped>\n",
       "    .dataframe tbody tr th:only-of-type {\n",
       "        vertical-align: middle;\n",
       "    }\n",
       "\n",
       "    .dataframe tbody tr th {\n",
       "        vertical-align: top;\n",
       "    }\n",
       "\n",
       "    .dataframe thead th {\n",
       "        text-align: right;\n",
       "    }\n",
       "</style>\n",
       "<table border=\"1\" class=\"dataframe\">\n",
       "  <thead>\n",
       "    <tr style=\"text-align: right;\">\n",
       "      <th></th>\n",
       "      <th>행정동코드</th>\n",
       "      <th>구</th>\n",
       "      <th>동</th>\n",
       "    </tr>\n",
       "  </thead>\n",
       "  <tbody>\n",
       "    <tr>\n",
       "      <th>346</th>\n",
       "      <td>11650570</td>\n",
       "      <td>서초구</td>\n",
       "      <td>반포2동</td>\n",
       "    </tr>\n",
       "    <tr>\n",
       "      <th>394</th>\n",
       "      <td>11710631</td>\n",
       "      <td>송파구</td>\n",
       "      <td>가락1동</td>\n",
       "    </tr>\n",
       "    <tr>\n",
       "      <th>403</th>\n",
       "      <td>11710720</td>\n",
       "      <td>송파구</td>\n",
       "      <td>잠실7동</td>\n",
       "    </tr>\n",
       "    <tr>\n",
       "      <th>387</th>\n",
       "      <td>11710566</td>\n",
       "      <td>송파구</td>\n",
       "      <td>오륜동</td>\n",
       "    </tr>\n",
       "    <tr>\n",
       "      <th>404</th>\n",
       "      <td>11710670</td>\n",
       "      <td>송파구</td>\n",
       "      <td>잠실2동</td>\n",
       "    </tr>\n",
       "    <tr>\n",
       "      <th>347</th>\n",
       "      <td>11650580</td>\n",
       "      <td>서초구</td>\n",
       "      <td>반포3동</td>\n",
       "    </tr>\n",
       "    <tr>\n",
       "      <th>362</th>\n",
       "      <td>11680600</td>\n",
       "      <td>강남구</td>\n",
       "      <td>대치1동</td>\n",
       "    </tr>\n",
       "    <tr>\n",
       "      <th>17</th>\n",
       "      <td>11140520</td>\n",
       "      <td>중구</td>\n",
       "      <td>소공동</td>\n",
       "    </tr>\n",
       "    <tr>\n",
       "      <th>236</th>\n",
       "      <td>11470670</td>\n",
       "      <td>양천구</td>\n",
       "      <td>신정6동</td>\n",
       "    </tr>\n",
       "    <tr>\n",
       "      <th>342</th>\n",
       "      <td>11650531</td>\n",
       "      <td>서초구</td>\n",
       "      <td>서초4동</td>\n",
       "    </tr>\n",
       "  </tbody>\n",
       "</table>\n",
       "</div>"
      ],
      "text/plain": [
       "        행정동코드    구     동\n",
       "346  11650570  서초구  반포2동\n",
       "394  11710631  송파구  가락1동\n",
       "403  11710720  송파구  잠실7동\n",
       "387  11710566  송파구   오륜동\n",
       "404  11710670  송파구  잠실2동\n",
       "347  11650580  서초구  반포3동\n",
       "362  11680600  강남구  대치1동\n",
       "17   11140520   중구   소공동\n",
       "236  11470670  양천구  신정6동\n",
       "342  11650531  서초구  서초4동"
      ]
     },
     "execution_count": 9,
     "metadata": {},
     "output_type": "execute_result"
    }
   ],
   "source": [
    "low = low[['행정동코드', '구', '동']]\n",
    "low"
   ]
  },
  {
   "cell_type": "code",
   "execution_count": 10,
   "metadata": {},
   "outputs": [
    {
     "data": {
      "text/html": [
       "<div>\n",
       "<style scoped>\n",
       "    .dataframe tbody tr th:only-of-type {\n",
       "        vertical-align: middle;\n",
       "    }\n",
       "\n",
       "    .dataframe tbody tr th {\n",
       "        vertical-align: top;\n",
       "    }\n",
       "\n",
       "    .dataframe thead th {\n",
       "        text-align: right;\n",
       "    }\n",
       "</style>\n",
       "<table border=\"1\" class=\"dataframe\">\n",
       "  <thead>\n",
       "    <tr style=\"text-align: right;\">\n",
       "      <th></th>\n",
       "      <th>행정동코드</th>\n",
       "      <th>구</th>\n",
       "      <th>동</th>\n",
       "    </tr>\n",
       "  </thead>\n",
       "  <tbody>\n",
       "    <tr>\n",
       "      <th>243</th>\n",
       "      <td>11500535</td>\n",
       "      <td>강서구</td>\n",
       "      <td>등촌3동</td>\n",
       "    </tr>\n",
       "    <tr>\n",
       "      <th>174</th>\n",
       "      <td>11350625</td>\n",
       "      <td>노원구</td>\n",
       "      <td>중계2.3동</td>\n",
       "    </tr>\n",
       "    <tr>\n",
       "      <th>158</th>\n",
       "      <td>11350570</td>\n",
       "      <td>노원구</td>\n",
       "      <td>월계2동</td>\n",
       "    </tr>\n",
       "    <tr>\n",
       "      <th>373</th>\n",
       "      <td>11680750</td>\n",
       "      <td>강남구</td>\n",
       "      <td>수서동</td>\n",
       "    </tr>\n",
       "    <tr>\n",
       "      <th>251</th>\n",
       "      <td>11500604</td>\n",
       "      <td>강서구</td>\n",
       "      <td>가양2동</td>\n",
       "    </tr>\n",
       "    <tr>\n",
       "      <th>161</th>\n",
       "      <td>11350611</td>\n",
       "      <td>노원구</td>\n",
       "      <td>하계1동</td>\n",
       "    </tr>\n",
       "    <tr>\n",
       "      <th>132</th>\n",
       "      <td>11305608</td>\n",
       "      <td>강북구</td>\n",
       "      <td>번3동</td>\n",
       "    </tr>\n",
       "    <tr>\n",
       "      <th>252</th>\n",
       "      <td>11500605</td>\n",
       "      <td>강서구</td>\n",
       "      <td>가양3동</td>\n",
       "    </tr>\n",
       "    <tr>\n",
       "      <th>172</th>\n",
       "      <td>11350665</td>\n",
       "      <td>노원구</td>\n",
       "      <td>상계3.4동</td>\n",
       "    </tr>\n",
       "    <tr>\n",
       "      <th>148</th>\n",
       "      <td>11320700</td>\n",
       "      <td>도봉구</td>\n",
       "      <td>방학2동</td>\n",
       "    </tr>\n",
       "  </tbody>\n",
       "</table>\n",
       "</div>"
      ],
      "text/plain": [
       "        행정동코드    구       동\n",
       "243  11500535  강서구    등촌3동\n",
       "174  11350625  노원구  중계2.3동\n",
       "158  11350570  노원구    월계2동\n",
       "373  11680750  강남구     수서동\n",
       "251  11500604  강서구    가양2동\n",
       "161  11350611  노원구    하계1동\n",
       "132  11305608  강북구     번3동\n",
       "252  11500605  강서구    가양3동\n",
       "172  11350665  노원구  상계3.4동\n",
       "148  11320700  도봉구    방학2동"
      ]
     },
     "execution_count": 10,
     "metadata": {},
     "output_type": "execute_result"
    }
   ],
   "source": [
    "high = high[['행정동코드', '구', '동']]\n",
    "high"
   ]
  }
 ],
 "metadata": {
  "kernelspec": {
   "display_name": "Python 3",
   "language": "python",
   "name": "python3"
  },
  "language_info": {
   "codemirror_mode": {
    "name": "ipython",
    "version": 3
   },
   "file_extension": ".py",
   "mimetype": "text/x-python",
   "name": "python",
   "nbconvert_exporter": "python",
   "pygments_lexer": "ipython3",
   "version": "3.8.3"
  }
 },
 "nbformat": 4,
 "nbformat_minor": 2
}
