{
 "cells": [
  {
   "cell_type": "markdown",
   "metadata": {},
   "source": [
    "참고 url\n",
    "강의 : https://www.youtube.com/watch?v=1UnqFeE2yyY&t=1s\n",
    "분할 데이터 : https://raw.githubusercontent.com/southkorea/seoul-maps/master/kostat/2013/json/seoul_submunicipalities_geo_simple.json\n",
    "\n",
    "json format 확인 url : https://jsonformatter.curiousconcept.com/"
   ]
  },
  {
   "cell_type": "code",
   "execution_count": 1,
   "metadata": {
    "scrolled": true
   },
   "outputs": [],
   "source": [
    "import pandas as pd\n",
    "import numpy as np\n",
    "df = pd.read_excel(\"소득.xlsx\", thousands = ',') #엑셀로 저장한거 1000단위의 , 제거하고 불러오기\n",
    "\n",
    "#df"
   ]
  },
  {
   "cell_type": "code",
   "execution_count": 2,
   "metadata": {
    "scrolled": true
   },
   "outputs": [],
   "source": [
    "del df['Unnamed: 0'] # Unnamed 0 생긴거 index에서 저장할때 생긴거 같은데 불필요하므로 제거\n",
    "df = df.drop(0,0)\n",
    "#df"
   ]
  },
  {
   "cell_type": "code",
   "execution_count": 3,
   "metadata": {},
   "outputs": [],
   "source": [
    "#플롯에 뽑을 동과 행정동별소득 data라는 이름으로 저장\n",
    "data = df[['행정동코드', '행정동별평균소득']]"
   ]
  },
  {
   "cell_type": "code",
   "execution_count": 4,
   "metadata": {},
   "outputs": [],
   "source": [
    "max_data = max(data['행정동별평균소득'])"
   ]
  },
  {
   "cell_type": "code",
   "execution_count": 5,
   "metadata": {},
   "outputs": [],
   "source": [
    "#지도 코드\n",
    "import pandas as pd\n",
    "import folium\n",
    "\n",
    "max_data = max(data['행정동별평균소득']) #이것처럼 생활인구면 max(data['행정동별생활인구합계']), 연금이면 max(data['행정동별연금합계']) 이렇게 지정해주세요.\n",
    "\n",
    "geo_data = 'complete_seoul-dong.geojson' #경로는 geojson 있는데로 바꿔주세요.\n",
    "\n",
    "# 서울시 중심부의 위도, 경도 입니다.\n",
    "center = [37.541, 126.986]\n",
    "\n",
    "# 맵이 center 에 위치하고, zoom 레벨은 11로 시작하는 맵 m을 만듭니다.\n",
    "m = folium.Map(location=center, zoom_start=10, tiles = 'cartodbpositron')\n",
    "\n",
    "# Choropleth 레이어를 만들고, 맵 m에 추가합니다.\n",
    "choropleth = folium.Choropleth(\n",
    "    geo_data=geo_data,\n",
    "    data=data,\n",
    "    columns=('행정동코드', '행정동별평균소득'),\n",
    "    key_on='feature.properties.행정동코드',\n",
    "    fill_color='YlGn',\n",
    "    bins=[(-0.000000001)*max_data, 0.125*max_data, 0.25*max_data, 0.375*max_data, 0.5*max_data, 0.625*max_data, 0.75*max_data, 0.875*max_data, (1.000001)*max_data],\n",
    "    legend_name='서울 행정동별 소득', #자기 데이터 제목\n",
    "    highlight = True,\n",
    ").add_to(m)\n",
    "\n",
    "folium.LayerControl().add_to(m)\n",
    "choropleth.geojson.add_child(\n",
    "    folium.features.GeoJsonTooltip(\n",
    "    fields=['동'],\n",
    "    aliases=['위치:'])\n",
    ")\n",
    "\n",
    "m.save('소득.html') #저장할 html 이름 지정\n",
    "#소득.html 열어서 확인\n"
   ]
  },
  {
   "cell_type": "code",
   "execution_count": null,
   "metadata": {},
   "outputs": [],
   "source": []
  }
 ],
 "metadata": {
  "kernelspec": {
   "display_name": "Python 3",
   "language": "python",
   "name": "python3"
  },
  "language_info": {
   "codemirror_mode": {
    "name": "ipython",
    "version": 3
   },
   "file_extension": ".py",
   "mimetype": "text/x-python",
   "name": "python",
   "nbconvert_exporter": "python",
   "pygments_lexer": "ipython3",
   "version": "3.7.3"
  }
 },
 "nbformat": 4,
 "nbformat_minor": 4
}
